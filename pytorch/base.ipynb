{
 "cells": [
  {
   "cell_type": "code",
   "execution_count": 1,
   "metadata": {},
   "outputs": [],
   "source": [
    "# # -*- coding: utf-8 -*-\n",
    "# import torch\n",
    "# import math\n",
    "# import numpy as np\n",
    "\n",
    "# # Create Tensors to hold input and outputs.\n",
    "# x = torch.linspace(-math.pi, math.pi, 2000)\n",
    "# y = torch.sin(x)\n",
    "\n",
    "# # For this example, the output y is a linear function of (x, x^2, x^3), so\n",
    "# # we can consider it as a linear layer neural network. Let's prepare the\n",
    "# # tensor (x, x^2, x^3).\n",
    "# p = torch.tensor([1, 2, 3])\n",
    "# xx = x.unsqueeze(-1).pow(p)\n",
    "\n",
    "# # In the above code, x.unsqueeze(-1) has shape (2000, 1), and p has shape\n",
    "# # (3,), for this case, broadcasting semantics will apply to obtain a tensor\n",
    "# # of shape (2000, 3) \n",
    "\n",
    "# # Use the nn package to define our model as a sequence of layers. nn.Sequential\n",
    "# # is a Module which contains other Modules, and applies them in sequence to\n",
    "# # produce its output. The Linear Module computes output from input using a\n",
    "# # linear function, and holds internal Tensors for its weight and bias.\n",
    "# # The Flatten layer flatens the output of the linear layer to a 1D tensor,\n",
    "# # to match the shape of `y`.\n",
    "# model = torch.nn.Sequential(\n",
    "#     torch.nn.Linear(3, 1),\n",
    "#     torch.nn.Flatten(0, 1)\n",
    "# )\n",
    "\n",
    "# # The nn package also contains definitions of popular loss functions; in this\n",
    "# # case we will use Mean Squared Error (MSE) as our loss function.\n",
    "# loss_fn = torch.nn.MSELoss(reduction='sum')\n",
    "\n",
    "# learning_rate = 1e-6\n",
    "# for t in range(2000):\n",
    "\n",
    "#     # Forward pass: compute predicted y by passing x to the model. Module objects\n",
    "#     # override the __call__ operator so you can call them like functions. When\n",
    "#     # doing so you pass a Tensor of input data to the Module and it produces\n",
    "#     # a Tensor of output data.\n",
    "#     y_pred = model(xx)\n",
    "\n",
    "#     # Compute and print loss. We pass Tensors containing the predicted and true\n",
    "#     # values of y, and the loss function returns a Tensor containing the\n",
    "#     # loss.\n",
    "#     loss = loss_fn(y_pred, y)\n",
    "#     if t % 100 == 99:\n",
    "#         print(t, loss.item())\n",
    "\n",
    "#     # Zero the gradients before running the backward pass.\n",
    "#     model.zero_grad()\n",
    "\n",
    "#     # Backward pass: compute gradient of the loss with respect to all the learnable\n",
    "#     # parameters of the model. Internally, the parameters of each Module are stored\n",
    "#     # in Tensors with requires_grad=True, so this call will compute gradients for\n",
    "#     # all learnable parameters in the model.\n",
    "#     loss.backward()\n",
    "\n",
    "#     # Update the weights using gradient descent. Each parameter is a Tensor, so\n",
    "#     # we can access its gradients like we did before.\n",
    "#     with torch.no_grad():\n",
    "#         for param in model.parameters():\n",
    "#             param -= learning_rate * param.grad\n",
    "\n",
    "# # You can access the first layer of `model` like accessing the first item of a list\n",
    "# linear_layer = model[0]\n",
    "\n",
    "# # For linear layer, its parameters are stored as `weight` and `bias`.\n",
    "# print(f'Result: y = {linear_layer.bias.item()} + {linear_layer.weight[:, 0].item()} x + {linear_layer.weight[:, 1].item()} x^2 + {linear_layer.weight[:, 2].item()} x^3')"
   ]
  },
  {
   "cell_type": "code",
   "execution_count": 2,
   "metadata": {},
   "outputs": [
    {
     "name": "stderr",
     "output_type": "stream",
     "text": [
      "/Users/rrossmil/.venv/ml/lib/python3.9/site-packages/tqdm/auto.py:22: TqdmWarning: IProgress not found. Please update jupyter and ipywidgets. See https://ipywidgets.readthedocs.io/en/stable/user_install.html\n",
      "  from .autonotebook import tqdm as notebook_tqdm\n"
     ]
    },
    {
     "data": {
      "text/plain": [
       "(tensor([ -3.1416,   9.8696, -31.0063]), tensor(8.7423e-08))"
      ]
     },
     "execution_count": 2,
     "metadata": {},
     "output_type": "execute_result"
    }
   ],
   "source": [
    "import torch\n",
    "from torch.utils.data import TensorDataset, DataLoader\n",
    "import math\n",
    "'''DATA'''\n",
    "\n",
    "# Create Tensors to hold input and outputs.\n",
    "x = torch.linspace(-math.pi, math.pi, 2000)\n",
    "y = torch.sin(x)\n",
    "\n",
    "# For this example, the output y is a linear function of (x, x^2, x^3), so\n",
    "# we can consider it as a linear layer neural network. Let's prepare the\n",
    "# tensor (x, x^2, x^3).\n",
    "p = torch.tensor([1, 2, 3])\n",
    "xx = x.unsqueeze(-1).pow(p)\n",
    "\n",
    "# In the above code, x.unsqueeze(-1) has shape (2000, 1), and p has shape\n",
    "# (3,), for this case, broadcasting semantics will apply to obtain a tensor\n",
    "# of shape (2000, 3) \n",
    "train_ds = TensorDataset(xx, y)\n",
    "val_ds = TensorDataset(xx, y)\n",
    "train_ds[0]\n"
   ]
  },
  {
   "cell_type": "code",
   "execution_count": 3,
   "metadata": {},
   "outputs": [],
   "source": [
    "from sklearn.model_selection import train_test_split\n",
    "'''DATASETS'''\n",
    "\n",
    "x_train, x_test, y_train, y_test = train_test_split(\n",
    "    xx, y, test_size=0.33, random_state=42\n",
    ")\n",
    "\n",
    "bs = 32\n",
    "train_ds = TensorDataset(x_train, y_train)\n",
    "train_dl = DataLoader(train_ds, batch_size=bs, shuffle=True)\n",
    "\n",
    "valid_ds = TensorDataset(x_test, y_test)\n",
    "valid_dl = DataLoader(valid_ds, batch_size=bs * 2)\n"
   ]
  },
  {
   "cell_type": "code",
   "execution_count": 21,
   "metadata": {},
   "outputs": [],
   "source": [
    "import torch\n",
    "import torch.nn as nn\n",
    "import torch.nn.functional as F\n",
    "\n",
    "\n",
    "class NN(nn.Module):\n",
    "    def __init__(self):\n",
    "        super().__init__()\n",
    "        self.model = nn.Sequential(nn.Linear(3, 1), nn.Sigmoid(), nn.Flatten(0, 1))\n",
    "\n",
    "    def forward(self, x):\n",
    "        return self.model(x)"
   ]
  },
  {
   "cell_type": "code",
   "execution_count": 28,
   "metadata": {},
   "outputs": [
    {
     "name": "stdout",
     "output_type": "stream",
     "text": [
      "Epoch 0, loss: 0.100, valid_loss 0.116\n",
      "Epoch 100, loss: 0.004, valid_loss 0.005\n",
      "Epoch 200, loss: 0.005, valid_loss 0.006\n",
      "Epoch 300, loss: 0.004, valid_loss 0.004\n",
      "Epoch 400, loss: 0.005, valid_loss 0.005\n",
      "Epoch 500, loss: 0.006, valid_loss 0.006\n",
      "Epoch 600, loss: 0.004, valid_loss 0.005\n",
      "Epoch 700, loss: 0.005, valid_loss 0.004\n",
      "Epoch 800, loss: 0.010, valid_loss 0.004\n",
      "Epoch 900, loss: 0.004, valid_loss 0.004\n",
      "Epoch 1000, loss: 0.007, valid_loss 0.005\n",
      "Epoch 1100, loss: 0.003, valid_loss 0.006\n",
      "Epoch 1200, loss: 0.006, valid_loss 0.004\n",
      "Epoch 1300, loss: 0.009, valid_loss 0.005\n",
      "Epoch 1400, loss: 0.004, valid_loss 0.005\n",
      "Epoch 1500, loss: 0.006, valid_loss 0.005\n",
      "Epoch 1600, loss: 0.006, valid_loss 0.007\n",
      "Epoch 1700, loss: 0.004, valid_loss 0.005\n",
      "Epoch 1800, loss: 0.006, valid_loss 0.005\n",
      "Epoch 1900, loss: 0.011, valid_loss 0.007\n",
      "Epoch 2000, loss: 0.005, valid_loss 0.009\n",
      "Epoch 2100, loss: 0.006, valid_loss 0.005\n",
      "Epoch 2200, loss: 0.007, valid_loss 0.006\n",
      "Epoch 2300, loss: 0.006, valid_loss 0.009\n",
      "Epoch 2400, loss: 0.005, valid_loss 0.006\n",
      "Epoch 2500, loss: 0.005, valid_loss 0.005\n",
      "Epoch 2600, loss: 0.004, valid_loss 0.005\n",
      "Epoch 2700, loss: 0.005, valid_loss 0.005\n",
      "Epoch 2800, loss: 0.005, valid_loss 0.005\n",
      "Epoch 2900, loss: 0.005, valid_loss 0.005\n",
      "Epoch 3000, loss: 0.011, valid_loss 0.004\n",
      "Epoch 3100, loss: 0.007, valid_loss 0.006\n",
      "Epoch 3200, loss: 0.005, valid_loss 0.005\n",
      "Epoch 3300, loss: 0.006, valid_loss 0.004\n",
      "Epoch 3400, loss: 0.007, valid_loss 0.008\n",
      "Epoch 3500, loss: 0.008, valid_loss 0.006\n",
      "Epoch 3600, loss: 0.005, valid_loss 0.005\n",
      "Epoch 3700, loss: 0.007, valid_loss 0.006\n",
      "Epoch 3800, loss: 0.005, valid_loss 0.004\n",
      "Epoch 3900, loss: 0.003, valid_loss 0.006\n",
      "Epoch 4000, loss: 0.006, valid_loss 0.005\n",
      "Epoch 4100, loss: 0.005, valid_loss 0.005\n",
      "Epoch 4200, loss: 0.005, valid_loss 0.005\n",
      "Epoch 4300, loss: 0.006, valid_loss 0.004\n",
      "Epoch 4400, loss: 0.007, valid_loss 0.006\n",
      "Epoch 4500, loss: 0.004, valid_loss 0.004\n",
      "Epoch 4600, loss: 0.005, valid_loss 0.004\n",
      "Epoch 4700, loss: 0.006, valid_loss 0.007\n",
      "Epoch 4800, loss: 0.005, valid_loss 0.004\n",
      "Epoch 4900, loss: 0.005, valid_loss 0.006\n",
      "Epoch 5000, loss: 0.004, valid_loss 0.005\n",
      "Epoch 5100, loss: 0.006, valid_loss 0.004\n",
      "Epoch 5200, loss: 0.006, valid_loss 0.007\n",
      "Epoch 5300, loss: 0.005, valid_loss 0.005\n",
      "Epoch 5400, loss: 0.004, valid_loss 0.005\n",
      "Epoch 5500, loss: 0.007, valid_loss 0.005\n",
      "Epoch 5600, loss: 0.006, valid_loss 0.008\n",
      "Epoch 5700, loss: 0.005, valid_loss 0.006\n",
      "Epoch 5800, loss: 0.007, valid_loss 0.005\n",
      "Epoch 5900, loss: 0.006, valid_loss 0.005\n",
      "Epoch 6000, loss: 0.006, valid_loss 0.007\n",
      "Epoch 6100, loss: 0.007, valid_loss 0.006\n",
      "Epoch 6200, loss: 0.006, valid_loss 0.004\n",
      "Epoch 6300, loss: 0.004, valid_loss 0.006\n",
      "Epoch 6400, loss: 0.006, valid_loss 0.005\n",
      "Epoch 6500, loss: 0.004, valid_loss 0.006\n",
      "Epoch 6600, loss: 0.005, valid_loss 0.006\n",
      "Epoch 6700, loss: 0.009, valid_loss 0.005\n",
      "Epoch 6800, loss: 0.007, valid_loss 0.005\n",
      "Epoch 6900, loss: 0.004, valid_loss 0.007\n",
      "Epoch 7000, loss: 0.004, valid_loss 0.004\n",
      "Epoch 7100, loss: 0.010, valid_loss 0.007\n",
      "Epoch 7200, loss: 0.006, valid_loss 0.005\n",
      "Epoch 7300, loss: 0.009, valid_loss 0.006\n",
      "Epoch 7400, loss: 0.005, valid_loss 0.005\n",
      "Epoch 7500, loss: 0.011, valid_loss 0.005\n",
      "Epoch 7600, loss: 0.004, valid_loss 0.005\n",
      "Epoch 7700, loss: 0.004, valid_loss 0.005\n",
      "Epoch 7800, loss: 0.004, valid_loss 0.009\n",
      "Epoch 7900, loss: 0.007, valid_loss 0.010\n",
      "Epoch 8000, loss: 0.005, valid_loss 0.005\n",
      "Epoch 8100, loss: 0.004, valid_loss 0.004\n",
      "Epoch 8200, loss: 0.009, valid_loss 0.005\n",
      "Epoch 8300, loss: 0.005, valid_loss 0.004\n",
      "Epoch 8400, loss: 0.014, valid_loss 0.004\n",
      "Epoch 8500, loss: 0.004, valid_loss 0.005\n",
      "Epoch 8600, loss: 0.002, valid_loss 0.004\n",
      "Epoch 8700, loss: 0.008, valid_loss 0.005\n",
      "Epoch 8800, loss: 0.006, valid_loss 0.006\n",
      "Epoch 8900, loss: 0.004, valid_loss 0.007\n",
      "Epoch 9000, loss: 0.006, valid_loss 0.007\n",
      "Epoch 9100, loss: 0.009, valid_loss 0.006\n",
      "Epoch 9200, loss: 0.006, valid_loss 0.004\n",
      "Epoch 9300, loss: 0.006, valid_loss 0.004\n",
      "Epoch 9400, loss: 0.008, valid_loss 0.007\n",
      "Epoch 9500, loss: 0.004, valid_loss 0.007\n",
      "Epoch 9600, loss: 0.006, valid_loss 0.004\n",
      "Epoch 9700, loss: 0.008, valid_loss 0.004\n",
      "Epoch 9800, loss: 0.005, valid_loss 0.006\n",
      "Epoch 9900, loss: 0.008, valid_loss 0.006\n"
     ]
    }
   ],
   "source": [
    "def train(train_dl, valid_dl, model, epochs):\n",
    "    learning_rate = 1e-2\n",
    "\n",
    "    optimizer = torch.optim.Adam(\n",
    "        model.parameters(), lr=learning_rate, weight_decay=1e-5\n",
    "    )\n",
    "    history = []\n",
    "    early_stop = 0\n",
    "    for e in range(epochs):\n",
    "        model.train()\n",
    "        for x, y in train_dl:\n",
    "            # Forward\n",
    "            pred = model(x)\n",
    "\n",
    "            # Compute loss\n",
    "            # Note that you should only compute the losses of the nodes in the training set.\n",
    "\n",
    "            loss = F.mse_loss(pred, y)\n",
    "\n",
    "            # Backward\n",
    "            optimizer.zero_grad()\n",
    "            loss.backward()\n",
    "            optimizer.step()\n",
    "            # end batch\n",
    "\n",
    "        model.eval()\n",
    "        with torch.no_grad():\n",
    "            valid_loss = sum(F.mse_loss(model(xb), yb) for xb, yb in valid_dl)\n",
    "            valid_loss = valid_loss / len(valid_dl)\n",
    "\n",
    "        history.append(\n",
    "            [\n",
    "                loss.item(),\n",
    "                valid_loss.item(),\n",
    "            ]\n",
    "        )\n",
    "\n",
    "        if e % 100 == 0:\n",
    "            val_acc = 0\n",
    "            print(f\"Epoch {e}, loss: {loss:.3f}, valid_loss {valid_loss:.3f}\")\n",
    "\n",
    "    return history\n",
    "\n",
    "\n",
    "# model = GCN(g.ndata[\"x\"].shape[1], 64, g.ndata[\"label\"].unique().shape[0])\n",
    "model = NN()\n",
    "history = train(train_dl, valid_dl, model, epochs=10_000)\n"
   ]
  },
  {
   "cell_type": "code",
   "execution_count": 29,
   "metadata": {},
   "outputs": [
    {
     "name": "stdout",
     "output_type": "stream",
     "text": [
      "loss          float64\n",
      "valid_loss    float64\n",
      "dtype: object\n"
     ]
    },
    {
     "data": {
      "text/html": [
       "<div>\n",
       "<style scoped>\n",
       "    .dataframe tbody tr th:only-of-type {\n",
       "        vertical-align: middle;\n",
       "    }\n",
       "\n",
       "    .dataframe tbody tr th {\n",
       "        vertical-align: top;\n",
       "    }\n",
       "\n",
       "    .dataframe thead th {\n",
       "        text-align: right;\n",
       "    }\n",
       "</style>\n",
       "<table border=\"1\" class=\"dataframe\">\n",
       "  <thead>\n",
       "    <tr style=\"text-align: right;\">\n",
       "      <th></th>\n",
       "      <th>loss</th>\n",
       "      <th>valid_loss</th>\n",
       "    </tr>\n",
       "  </thead>\n",
       "  <tbody>\n",
       "    <tr>\n",
       "      <th>0</th>\n",
       "      <td>0.100190</td>\n",
       "      <td>0.115958</td>\n",
       "    </tr>\n",
       "    <tr>\n",
       "      <th>1</th>\n",
       "      <td>0.043893</td>\n",
       "      <td>0.040306</td>\n",
       "    </tr>\n",
       "    <tr>\n",
       "      <th>2</th>\n",
       "      <td>0.011470</td>\n",
       "      <td>0.013075</td>\n",
       "    </tr>\n",
       "    <tr>\n",
       "      <th>3</th>\n",
       "      <td>0.005920</td>\n",
       "      <td>0.005768</td>\n",
       "    </tr>\n",
       "    <tr>\n",
       "      <th>4</th>\n",
       "      <td>0.003879</td>\n",
       "      <td>0.004571</td>\n",
       "    </tr>\n",
       "  </tbody>\n",
       "</table>\n",
       "</div>"
      ],
      "text/plain": [
       "       loss  valid_loss\n",
       "0  0.100190    0.115958\n",
       "1  0.043893    0.040306\n",
       "2  0.011470    0.013075\n",
       "3  0.005920    0.005768\n",
       "4  0.003879    0.004571"
      ]
     },
     "execution_count": 29,
     "metadata": {},
     "output_type": "execute_result"
    },
    {
     "data": {
      "image/png": "[encoded data removed]",
      "text/plain": [
       "<Figure size 432x288 with 1 Axes>"
      ]
     },
     "metadata": {
      "needs_background": "light"
     },
     "output_type": "display_data"
    }
   ],
   "source": [
    "import pandas as pd\n",
    "df = pd.DataFrame(history, columns=['loss','valid_loss'])\n",
    "print(df.dtypes)\n",
    "df[['loss','valid_loss']].plot()\n",
    "df.head()"
   ]
  },
  {
   "cell_type": "code",
   "execution_count": 30,
   "metadata": {},
   "outputs": [
    {
     "data": {
      "text/plain": [
       "<matplotlib.legend.Legend at 0x291165e20>"
      ]
     },
     "execution_count": 30,
     "metadata": {},
     "output_type": "execute_result"
    },
    {
     "data": {
      "image/png": "[encoded data removed]",
      "text/plain": [
       "<Figure size 432x288 with 1 Axes>"
      ]
     },
     "metadata": {
      "needs_background": "light"
     },
     "output_type": "display_data"
    }
   ],
   "source": [
    "import matplotlib.pyplot as plt\n",
    "\n",
    "model.eval()\n",
    "p = model(xx)\n",
    "\n",
    "fig, ax = plt.subplots()\n",
    "ax.plot(xx[:, 0], p.detach().numpy(), label='pred')\n",
    "ax.plot(xx[:, 0], y, label='y')\n",
    "plt.legend()\n"
   ]
  },
  {
   "cell_type": "code",
   "execution_count": null,
   "metadata": {},
   "outputs": [],
   "source": []
  }
 ],
 "metadata": {
  "kernelspec": {
   "display_name": "Python 3.9.13 64-bit",
   "language": "python",
   "name": "python3"
  },
  "language_info": {
   "codemirror_mode": {
    "name": "ipython",
    "version": 3
   },
   "file_extension": ".py",
   "mimetype": "text/x-python",
   "name": "python",
   "nbconvert_exporter": "python",
   "pygments_lexer": "ipython3",
   "version": "3.9.13"
  },
  "orig_nbformat": 4,
  "vscode": {
   "interpreter": {
    "hash": "dbf23902112f63a418e5641bed0f2752948e7a39f6ebb907d1e9249d165f97b5"
   }
  }
 },
 "nbformat": 4,
 "nbformat_minor": 2
}
