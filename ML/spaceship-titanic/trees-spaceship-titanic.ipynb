{
 "cells": [
  {
   "cell_type": "code",
   "execution_count": null,
   "metadata": {},
   "outputs": [],
   "source": [
    "import pandas as pd\n",
    "import tensorflow_decision_forests as tfdf\n",
    "\n",
    "train_df = pd.read_csv(\"data/train.csv\")\n",
    "test_df = pd.read_csv(\"data/test.csv\")\n",
    "train_df.columns = [x.lower() for x in train_df.columns]\n",
    "test_df.columns = [x.lower() for x in test_df.columns]\n",
    "train_df = train_df.drop(columns=[\"name\"])\n",
    "test_df = test_df.drop(columns=[\"name\"])\n",
    "train_df = train_df[train_df[\"transported\"].notna()]\n",
    "print(train_df.info())\n",
    "train_df.head()\n"
   ]
  },
  {
   "cell_type": "code",
   "execution_count": null,
   "metadata": {},
   "outputs": [],
   "source": [
    "def fill_na(df: pd.DataFrame) -> pd.DataFrame:\n",
    "    df[\"homeplanet\"].fillna(\"none\", inplace=True)\n",
    "    df[\"cryosleep\"].fillna(False, inplace=True)\n",
    "    df[\"cabin\"].fillna(\"none\", inplace=True)\n",
    "    df[\"destination\"].fillna(\"none\", inplace=True)\n",
    "    df[\"age\"].fillna(df[\"age\"].mean(), inplace=True)\n",
    "    df[\"vip\"].fillna(False, inplace=True)\n",
    "    df[\"roomservice\"].fillna(0, inplace=True)\n",
    "    df[\"foodcourt\"].fillna(0, inplace=True)\n",
    "    df[\"shoppingmall\"].fillna(0, inplace=True)\n",
    "    df[\"spa\"].fillna(0, inplace=True)\n",
    "    df[\"vrdeck\"].fillna(0, inplace=True)\n",
    "    return df\n",
    "\n",
    "\n",
    "train_df = fill_na(train_df)\n",
    "test_df = fill_na(test_df)\n",
    "train_df.info()\n"
   ]
  },
  {
   "cell_type": "code",
   "execution_count": null,
   "metadata": {},
   "outputs": [],
   "source": [
    "# num_cols = [k for k, v in train_df.dtypes.items() if v == \"float64\"]\n",
    "# cat_cols = [x for x in train_df.columns if x not in num_cols]\n",
    "num_cols = [\"age\", \"roomservice\", \"foodcourt\", \"shoppingmall\", \"spa\", \"vrdeck\"]\n",
    "# cat_cols = [\"homeplanet\", \"cryosleep\", \"cabin\", \"destination\", \"vip\"]\n",
    "cat_cols = [\"homeplanet\", \"cryosleep\", \"destination\", \"vip\"]\n",
    "print(num_cols, cat_cols)\n",
    "train_df[\"transported\"].value_counts()\n"
   ]
  },
  {
   "cell_type": "code",
   "execution_count": null,
   "metadata": {},
   "outputs": [],
   "source": [
    "from matplotlib import pyplot as plt\n",
    "import seaborn as sns\n",
    "\n",
    "t = [\"transported\"]\n",
    "t.extend(num_cols)\n",
    "\n",
    "sns.pairplot(train_df[t], hue=\"transported\", diag_kind=\"kde\", corner=True)\n"
   ]
  },
  {
   "cell_type": "code",
   "execution_count": null,
   "metadata": {},
   "outputs": [],
   "source": [
    "from collections import Counter\n",
    "\n",
    "\n",
    "for c in cat_cols:\n",
    "    d = {True: Counter(), False: Counter()}\n",
    "    for i in train_df[train_df[\"transported\"]][c]:\n",
    "        d[True][i] += 1\n",
    "    for i in train_df[~train_df[\"transported\"]][c]:\n",
    "        d[False][i] += 1\n",
    "\n",
    "    tmp = {\n",
    "        c: list(d[True].keys()),\n",
    "        \"count\": list(d[True].values()),\n",
    "        \"transported\": [True for _ in range(len(d[True].values()))],\n",
    "    }\n",
    "    tmp[c].extend(list(d[False].keys()))\n",
    "    tmp[\"count\"].extend(list(d[False].values()))\n",
    "    tmp[\"transported\"].extend([False for _ in range(len(d[False].values()))])\n",
    "\n",
    "    tmp = pd.DataFrame(tmp)\n",
    "    sns.barplot(tmp, x=c, y=\"count\", hue=\"transported\")\n",
    "    plt.show()\n"
   ]
  },
  {
   "cell_type": "code",
   "execution_count": null,
   "metadata": {},
   "outputs": [],
   "source": [
    "# categorical vars\n",
    "from sklearn.preprocessing import OrdinalEncoder\n",
    "import numpy as np\n",
    "\n",
    "\n",
    "def encode(df: pd.DataFrame):\n",
    "    oe = OrdinalEncoder()\n",
    "    for c in [\"cryosleep\", \"vip\"]:\n",
    "        df[c] = oe.fit_transform(df[c].to_numpy().reshape(1, -1))[0]\n",
    "\n",
    "    # split cabin info\n",
    "    c = df[\"cabin\"].str.split(\"/\")\n",
    "    a = [x[0] for x in c]\n",
    "    df[\"cabin0\"] = a\n",
    "    b = [x[1] if x[0] !='none' else 'none' for x in c]\n",
    "    df[\"cabin1\"] = b\n",
    "    c = [x[2] if x[0] !='none' else 'none' for x in c]\n",
    "    df[\"cabin2\"] = c\n",
    "\n",
    "    return df.drop(columns=\"cabin\")\n",
    "\n",
    "\n",
    "# encode(train_df)\n",
    "train_df = encode(train_df)\n",
    "test_df = encode(test_df)\n",
    "test_df.dtypes\n"
   ]
  },
  {
   "cell_type": "code",
   "execution_count": null,
   "metadata": {},
   "outputs": [],
   "source": [
    "# Convert the dataset into a TensorFlow dataset.\n",
    "tdf = train_df.sample(int(train_df.shape[0] * 0.8))\n",
    "edf = train_df[~train_df[\"passengerid\"].isin(tdf[\"passengerid\"])]\n",
    "assert tdf.shape[0] + edf.shape[0] == train_df.shape[0]\n",
    "\n",
    "train_ds = tfdf.keras.pd_dataframe_to_tf_dataset(tdf.drop(columns=\"passengerid\"), label=\"transported\")\n",
    "eval_ds = tfdf.keras.pd_dataframe_to_tf_dataset(edf.drop(columns=\"passengerid\"), label=\"transported\")\n",
    "\n",
    "test_ds = tfdf.keras.pd_dataframe_to_tf_dataset(test_df.drop(columns=\"passengerid\"))\n"
   ]
  },
  {
   "cell_type": "code",
   "execution_count": null,
   "metadata": {},
   "outputs": [],
   "source": [
    "edf.head()\n"
   ]
  },
  {
   "cell_type": "code",
   "execution_count": null,
   "metadata": {},
   "outputs": [],
   "source": [
    "from sklearn.metrics import accuracy_score\n",
    "\n",
    "models = {}\n",
    "# for x in tfdf.keras.get_all_models():\n",
    "#     if \"Distributed\" in x.__name__:\n",
    "#         continue\n",
    "for x in [tfdf.keras.RandomForestModel, tfdf.keras.GradientBoostedTreesModel]:\n",
    "    print(x.__name__)\n",
    "\n",
    "    model: tfdf.keras.CoreModel = x(\n",
    "        hyperparameter_template=\"benchmark_rank1\",\n",
    "        verbose=0,\n",
    "        # max_depth=1024,\n",
    "        # num_trees=1024,\n",
    "    )\n",
    "    model.fit(train_ds, verbose=0)\n",
    "\n",
    "    # Summary of the model structure.\n",
    "    # model.summary()\n",
    "    preds = model.predict(eval_ds, verbose=0)\n",
    "    d = {\"PassengerId\": [], \"Transported\": []}\n",
    "    for p, i in zip(preds, edf[\"passengerid\"]):\n",
    "        d[\"PassengerId\"].append(i)\n",
    "        d[\"Transported\"].append(p[0] > 0.5)\n",
    "\n",
    "    acc = accuracy_score(edf[\"transported\"].tolist(), d[\"Transported\"])\n",
    "    print(acc)\n",
    "    models[acc] = model\n",
    "\n",
    "# pick the winner\n",
    "max_score = max(models.keys())\n",
    "model = models[max_score]\n",
    "model.name\n"
   ]
  },
  {
   "cell_type": "code",
   "execution_count": null,
   "metadata": {},
   "outputs": [],
   "source": [
    "# # train with everything\n",
    "# train_ds = tfdf.keras.pd_dataframe_to_tf_dataset(\n",
    "#     train_df.drop(columns=\"passengerid\"), label=\"transported\"\n",
    "# )\n",
    "\n",
    "# model = tfdf.keras.RandomForestModel(\n",
    "#     hyperparameter_template=\"benchmark_rank1\", verbose=0, max_depth=1024\n",
    "# )\n",
    "# model.fit(train_ds, verbose=0)\n",
    "# print(model.evaluate(train_ds))\n"
   ]
  },
  {
   "cell_type": "code",
   "execution_count": null,
   "metadata": {},
   "outputs": [],
   "source": [
    "# Evaluate the model.\n",
    "preds = model.predict(test_ds)\n",
    "d = {\"PassengerId\": [], \"Transported\": []}\n",
    "for p, i in zip(preds, test_df[\"passengerid\"]):\n",
    "    d[\"PassengerId\"].append(i)\n",
    "    d[\"Transported\"].append(p[0] > 0.5)\n",
    "\n",
    "pd.DataFrame(d).to_csv(\"data/preds.csv\", index=False)\n"
   ]
  },
  {
   "cell_type": "code",
   "execution_count": null,
   "metadata": {},
   "outputs": [],
   "source": []
  }
 ],
 "metadata": {
  "kernelspec": {
   "display_name": "Python 3.9.17 ('ml': venv)",
   "language": "python",
   "name": "python3"
  },
  "language_info": {
   "codemirror_mode": {
    "name": "ipython",
    "version": 3
   },
   "file_extension": ".py",
   "mimetype": "text/x-python",
   "name": "python",
   "nbconvert_exporter": "python",
   "pygments_lexer": "ipython3",
   "version": "3.11.6"
  },
  "vscode": {
   "interpreter": {
    "hash": "dbf23902112f63a418e5641bed0f2752948e7a39f6ebb907d1e9249d165f97b5"
   }
  }
 },
 "nbformat": 4,
 "nbformat_minor": 2
}
