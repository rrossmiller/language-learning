{
 "cells": [
  {
   "cell_type": "code",
   "execution_count": 67,
   "metadata": {},
   "outputs": [
    {
     "name": "stdout",
     "output_type": "stream",
     "text": [
      "homeplanet\n",
      "cryosleep\n",
      "destination\n",
      "vip\n"
     ]
    },
    {
     "name": "stderr",
     "output_type": "stream",
     "text": [
      "100%|██████████| 8693/8693 [00:00<00:00, 554161.94it/s]\n",
      "100%|██████████| 4277/4277 [00:00<00:00, 564991.28it/s]"
     ]
    },
    {
     "name": "stdout",
     "output_type": "stream",
     "text": [
      "8693 8693 4277\n"
     ]
    },
    {
     "name": "stderr",
     "output_type": "stream",
     "text": [
      "\n"
     ]
    },
    {
     "data": {
      "text/plain": [
       "array([[ 0.70939612, -0.3330855 , -0.28101057, -0.28356232],\n",
       "       [-0.33669797, -0.16806376, -0.27537073, -0.2417568 ],\n",
       "       [ 2.03444863, -0.26798518,  1.95988491, -0.28356232]])"
      ]
     },
     "execution_count": 67,
     "metadata": {},
     "output_type": "execute_result"
    }
   ],
   "source": [
    "# building off of trees, the preprocessing can be duplicated\n",
    "from sklearn.preprocessing import OneHotEncoder, StandardScaler\n",
    "import pandas as pd\n",
    "import tensorflow_decision_forests as tfdf\n",
    "import numpy as np\n",
    "from tqdm import trange\n",
    "\n",
    "train_df = pd.read_csv(\"data/train.csv\")\n",
    "test_df = pd.read_csv(\"data/test.csv\")\n",
    "train_df.columns = [x.lower() for x in train_df.columns]\n",
    "test_df.columns = [x.lower() for x in test_df.columns]\n",
    "train_df = train_df.drop(columns=[\"name\"])\n",
    "test_df = test_df.drop(columns=[\"name\"])\n",
    "train_df = train_df[train_df[\"transported\"].notna()]\n",
    "\n",
    "\n",
    "def fill_na(df: pd.DataFrame) -> pd.DataFrame:\n",
    "    df[\"homeplanet\"].fillna(\"none\", inplace=True)\n",
    "    df[\"cryosleep\"].fillna(False, inplace=True)\n",
    "    df[\"cabin\"].fillna(\"none\", inplace=True)\n",
    "    df[\"destination\"].fillna(\"none\", inplace=True)\n",
    "    df[\"age\"].fillna(df[\"age\"].mean(), inplace=True)\n",
    "    df[\"vip\"].fillna(False, inplace=True)\n",
    "    df[\"roomservice\"].fillna(0, inplace=True)\n",
    "    df[\"foodcourt\"].fillna(0, inplace=True)\n",
    "    df[\"shoppingmall\"].fillna(0, inplace=True)\n",
    "    df[\"spa\"].fillna(0, inplace=True)\n",
    "    df[\"vrdeck\"].fillna(0, inplace=True)\n",
    "    return df\n",
    "\n",
    "\n",
    "train_df = fill_na(train_df)\n",
    "test_df = fill_na(test_df)\n",
    "\n",
    "\n",
    "def make_vectors(df: pd.DataFrame, test_df: pd.DataFrame):\n",
    "    labels = df[\"transported\"].to_numpy()\n",
    "    df.drop(columns=\"transported\")\n",
    "\n",
    "    # num cols\n",
    "    num_cols = [\"age\", \"roomservice\", \"foodcourt\", \"shoppingmall\", \"spa\", \"vrdeck\"]\n",
    "    scaler = StandardScaler()\n",
    "    vecs = []\n",
    "    test_vecs = []\n",
    "    for c in num_cols:\n",
    "        mean = df[c].mean()\n",
    "        std = df[c].std()\n",
    "        x = (df[c] - mean) / std\n",
    "        vecs.append(x.to_numpy())\n",
    "\n",
    "        x = (test_df[c] - mean) / std\n",
    "        test_vecs.append(x)\n",
    "\n",
    "    # cat cols\n",
    "    cat_cols = [\"homeplanet\", \"cryosleep\",  \"destination\", \"vip\"]\n",
    "    cat_vecs = []\n",
    "    test_cat_vecs = []\n",
    "    for c in cat_cols:\n",
    "        print(c)\n",
    "        ohe = OneHotEncoder()\n",
    "        x = ohe.fit_transform(df[c].to_numpy().reshape(-1, 1)).toarray()\n",
    "        cat_vecs.append(x)\n",
    "        x = ohe.transform(test_df[c].to_numpy().reshape(-1, 1)).toarray()\n",
    "        test_cat_vecs.append(x)\n",
    "\n",
    "    vecs = np.array(vecs).transpose().tolist()\n",
    "    test_vecs = np.array(test_vecs).transpose().tolist()\n",
    "    for i in trange(len(vecs)):\n",
    "        for c in cat_vecs:\n",
    "            vecs[i].extend(c[i])\n",
    "    for i in trange(len(test_vecs)):\n",
    "        for c in test_cat_vecs:\n",
    "            test_vecs[i].extend(c[i])\n",
    "\n",
    "    return np.array(vecs), labels, np.array(test_vecs)\n",
    "\n",
    "\n",
    "train_x, train_y, test_x = make_vectors(train_df, test_df)\n",
    "\n",
    "print(len(train_x), len(train_y), len(test_x))\n",
    "assert len(train_x[0]) == len(test_x[0]), (len(train_x[0]), len(test_x[0]))\n",
    "train_x[:3, :4]\n"
   ]
  },
  {
   "cell_type": "code",
   "execution_count": 68,
   "metadata": {},
   "outputs": [
    {
     "data": {
      "text/plain": [
       "array([[-0.05773954, -0.3330855 , -0.24654489, -0.28356232],\n",
       "       [-0.82487521, -0.3330855 ,  0.46783454, -0.23172348],\n",
       "       [-0.05773954, -0.3330855 , -0.28101057, -0.28356232]])"
      ]
     },
     "execution_count": 68,
     "metadata": {},
     "output_type": "execute_result"
    }
   ],
   "source": [
    "from sklearn.model_selection import train_test_split\n",
    "\n",
    "train_x, eval_x, train_y, eval_y = train_test_split(\n",
    "    train_x, train_y, test_size=0.2, random_state=42\n",
    ")\n",
    "\n",
    "train_x[:3, :4]"
   ]
  },
  {
   "cell_type": "code",
   "execution_count": 69,
   "metadata": {},
   "outputs": [
    {
     "data": {
      "text/plain": [
       "0.7722829212190915"
      ]
     },
     "execution_count": 69,
     "metadata": {},
     "output_type": "execute_result"
    }
   ],
   "source": [
    "# train\n",
    "from sklearn.neighbors import KNeighborsClassifier\n",
    "\n",
    "model = KNeighborsClassifier()\n",
    "model.fit(train_x, train_y)\n",
    "model.score(eval_x,eval_y)"
   ]
  },
  {
   "cell_type": "code",
   "execution_count": 72,
   "metadata": {},
   "outputs": [],
   "source": [
    "# Evaluate the model.\n",
    "preds = model.predict(test_x)\n",
    "d = {\"PassengerId\": [], \"Transported\": []}\n",
    "for p, i in zip(preds, test_df[\"passengerid\"]):\n",
    "    d[\"PassengerId\"].append(i)\n",
    "    d[\"Transported\"].append(p)\n",
    "\n",
    "pd.DataFrame(d).to_csv(\"data/preds.csv\", index=False)\n"
   ]
  }
 ],
 "metadata": {
  "kernelspec": {
   "display_name": "Python 3.9.17 ('ml': venv)",
   "language": "python",
   "name": "python3"
  },
  "language_info": {
   "name": "python",
   "version": "3.9.17"
  },
  "orig_nbformat": 4,
  "vscode": {
   "interpreter": {
    "hash": "dbf23902112f63a418e5641bed0f2752948e7a39f6ebb907d1e9249d165f97b5"
   }
  }
 },
 "nbformat": 4,
 "nbformat_minor": 2
}
