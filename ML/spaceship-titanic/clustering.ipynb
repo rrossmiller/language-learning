{
 "cells": [
  {
   "cell_type": "code",
   "execution_count": 76,
   "metadata": {},
   "outputs": [
    {
     "name": "stderr",
     "output_type": "stream",
     "text": [
      "100%|██████████| 8693/8693 [00:00<00:00, 550788.31it/s]\n",
      "100%|██████████| 4277/4277 [00:00<00:00, 553076.56it/s]"
     ]
    },
    {
     "name": "stdout",
     "output_type": "stream",
     "text": [
      "[[1. 0. 0.]\n",
      " [0. 1. 0.]\n",
      " [0. 1. 0.]\n",
      " ...\n",
      " [0. 1. 0.]\n",
      " [0. 1. 0.]\n",
      " [0. 1. 0.]]\n"
     ]
    },
    {
     "name": "stderr",
     "output_type": "stream",
     "text": [
      "\n"
     ]
    },
    {
     "ename": "IndexError",
     "evalue": "list index out of range",
     "output_type": "error",
     "traceback": [
      "\u001b[0;31m---------------------------------------------------------------------------\u001b[0m",
      "\u001b[0;31mIndexError\u001b[0m                                Traceback (most recent call last)",
      "Cell \u001b[0;32mIn[76], line 95\u001b[0m\n\u001b[1;32m     90\u001b[0m         test_vecs[i]\u001b[38;5;241m.\u001b[39mextend([a[i], b[i], c[i]])\n\u001b[1;32m     92\u001b[0m     \u001b[38;5;28;01mreturn\u001b[39;00m np\u001b[38;5;241m.\u001b[39marray(vecs), labels, np\u001b[38;5;241m.\u001b[39marray(test_vecs)\n\u001b[0;32m---> 95\u001b[0m train_x, train_y, test_x \u001b[38;5;241m=\u001b[39m \u001b[43mmake_vectors\u001b[49m\u001b[43m(\u001b[49m\u001b[43mtrain_df\u001b[49m\u001b[43m,\u001b[49m\u001b[43m \u001b[49m\u001b[43mtest_df\u001b[49m\u001b[43m)\u001b[49m\n\u001b[1;32m     97\u001b[0m \u001b[38;5;28mprint\u001b[39m(\u001b[38;5;28mlen\u001b[39m(train_x), \u001b[38;5;28mlen\u001b[39m(train_y), \u001b[38;5;28mlen\u001b[39m(test_x))\n\u001b[1;32m     98\u001b[0m \u001b[38;5;28;01massert\u001b[39;00m \u001b[38;5;28mlen\u001b[39m(train_x[\u001b[38;5;241m0\u001b[39m]) \u001b[38;5;241m==\u001b[39m \u001b[38;5;28mlen\u001b[39m(test_x[\u001b[38;5;241m0\u001b[39m]), (\u001b[38;5;28mlen\u001b[39m(train_x[\u001b[38;5;241m0\u001b[39m]), \u001b[38;5;28mlen\u001b[39m(test_x[\u001b[38;5;241m0\u001b[39m]))\n",
      "Cell \u001b[0;32mIn[76], line 83\u001b[0m, in \u001b[0;36mmake_vectors\u001b[0;34m(df, test_df)\u001b[0m\n\u001b[1;32m     81\u001b[0m \u001b[38;5;28mprint\u001b[39m(c)\n\u001b[1;32m     82\u001b[0m \u001b[38;5;28;01mfor\u001b[39;00m i, c \u001b[38;5;129;01min\u001b[39;00m \u001b[38;5;28menumerate\u001b[39m(x):\n\u001b[0;32m---> 83\u001b[0m     vecs[i]\u001b[38;5;241m.\u001b[39mextend([a[i], b[i], \u001b[43mc\u001b[49m\u001b[43m[\u001b[49m\u001b[43mi\u001b[49m\u001b[43m]\u001b[49m])\n\u001b[1;32m     85\u001b[0m x \u001b[38;5;241m=\u001b[39m test_df[\u001b[38;5;124m'\u001b[39m\u001b[38;5;124mcabin\u001b[39m\u001b[38;5;124m'\u001b[39m]\u001b[38;5;241m.\u001b[39mstr\u001b[38;5;241m.\u001b[39msplit(\u001b[38;5;124m'\u001b[39m\u001b[38;5;124m/\u001b[39m\u001b[38;5;124m'\u001b[39m)\n\u001b[1;32m     86\u001b[0m a \u001b[38;5;241m=\u001b[39m ohe_a\u001b[38;5;241m.\u001b[39mtransform([[a[\u001b[38;5;241m0\u001b[39m]] \u001b[38;5;28;01mfor\u001b[39;00m a \u001b[38;5;129;01min\u001b[39;00m x])\n",
      "\u001b[0;31mIndexError\u001b[0m: list index out of range"
     ]
    }
   ],
   "source": [
    "# building off of trees, the preprocessing can be duplicated\n",
    "from sklearn.preprocessing import OneHotEncoder, StandardScaler\n",
    "import pandas as pd\n",
    "import numpy as np\n",
    "from tqdm import trange\n",
    "\n",
    "train_df = pd.read_csv(\"data/train.csv\")\n",
    "test_df = pd.read_csv(\"data/test.csv\")\n",
    "train_df.columns = [x.lower() for x in train_df.columns]\n",
    "test_df.columns = [x.lower() for x in test_df.columns]\n",
    "train_df = train_df.drop(columns=[\"name\"])\n",
    "test_df = test_df.drop(columns=[\"name\"])\n",
    "train_df = train_df[train_df[\"transported\"].notna()]\n",
    "\n",
    "\n",
    "def fill_na(df: pd.DataFrame) -> pd.DataFrame:\n",
    "    df[\"homeplanet\"].fillna(\"none\", inplace=True)\n",
    "    df[\"cryosleep\"].fillna(False, inplace=True)\n",
    "    df[\"cabin\"].fillna(\"none/none/none\", inplace=True)\n",
    "    df[\"destination\"].fillna(\"none\", inplace=True)\n",
    "    df[\"age\"].fillna(df[\"age\"].mean(), inplace=True)\n",
    "    df[\"vip\"].fillna(False, inplace=True)\n",
    "    df[\"roomservice\"].fillna(0, inplace=True)\n",
    "    df[\"foodcourt\"].fillna(0, inplace=True)\n",
    "    df[\"shoppingmall\"].fillna(0, inplace=True)\n",
    "    df[\"spa\"].fillna(0, inplace=True)\n",
    "    df[\"vrdeck\"].fillna(0, inplace=True)\n",
    "    return df\n",
    "\n",
    "\n",
    "train_df = fill_na(train_df)\n",
    "test_df = fill_na(test_df)\n",
    "\n",
    "\n",
    "def make_vectors(df: pd.DataFrame, test_df: pd.DataFrame):\n",
    "    labels = df[\"transported\"].to_numpy()\n",
    "    df.drop(columns=\"transported\")\n",
    "\n",
    "    # num cols\n",
    "    num_cols = [\"age\", \"roomservice\", \"foodcourt\", \"shoppingmall\", \"spa\", \"vrdeck\"]\n",
    "    scaler = StandardScaler()\n",
    "    vecs = []\n",
    "    test_vecs = []\n",
    "    for c in num_cols:\n",
    "        mean = df[c].mean()\n",
    "        std = df[c].std()\n",
    "        x = (df[c] - mean) / std\n",
    "        vecs.append(x.to_numpy())\n",
    "\n",
    "        x = (test_df[c] - mean) / std\n",
    "        test_vecs.append(x)\n",
    "\n",
    "    # cat cols\n",
    "    cat_cols = [\"homeplanet\", \"cryosleep\", \"destination\", \"vip\"]\n",
    "    cat_vecs = []\n",
    "    test_cat_vecs = []\n",
    "    for c in cat_cols:\n",
    "        ohe = OneHotEncoder()\n",
    "        x = ohe.fit_transform(df[c].to_numpy().reshape(-1, 1)).toarray()\n",
    "        cat_vecs.append(x)\n",
    "        x = ohe.transform(test_df[c].to_numpy().reshape(-1, 1)).toarray()\n",
    "        test_cat_vecs.append(x)\n",
    "\n",
    "    vecs = np.array(vecs).transpose().tolist()\n",
    "    test_vecs = np.array(test_vecs).transpose().tolist()\n",
    "    for i in trange(len(vecs)):\n",
    "        for c in cat_vecs:\n",
    "            vecs[i].extend(c[i])\n",
    "\n",
    "    for i in trange(len(test_vecs)):\n",
    "        for c in test_cat_vecs:\n",
    "            test_vecs[i].extend(c[i])\n",
    "\n",
    "    x = df[\"cabin\"].str.split(\"/\")\n",
    "    ohe_a = OneHotEncoder()\n",
    "    a = ohe_a.fit_transform([[a[0]] for a in x]).toarray()\n",
    "    ohe_b = OneHotEncoder()\n",
    "    b = ohe_b.fit_transform([[a[1]] for a in x]).toarray()\n",
    "    ohe_c = OneHotEncoder()\n",
    "    c = ohe_c.fit_transform([[a[2]] for a in x]).toarray()\n",
    "    print(c)\n",
    "    for i, c in enumerate(x):\n",
    "        vecs[i].extend([a[i], b[i], c[i]])\n",
    "\n",
    "    x = test_df['cabin'].str.split('/')\n",
    "    a = ohe_a.transform([[a[0]] for a in x])\n",
    "    b = ohe_b.transform([[a[1]] for a in x])\n",
    "    c = ohe_c.transform([[a[2]] for a in x])\n",
    "    for i, c in enumerate(x):\n",
    "        test_vecs[i].extend([a[i], b[i], c[i]])\n",
    "\n",
    "    return np.array(vecs), labels, np.array(test_vecs)\n",
    "\n",
    "\n",
    "train_x, train_y, test_x = make_vectors(train_df, test_df)\n",
    "\n",
    "print(len(train_x), len(train_y), len(test_x))\n",
    "assert len(train_x[0]) == len(test_x[0]), (len(train_x[0]), len(test_x[0]))\n",
    "train_x[:3, :4]\n"
   ]
  },
  {
   "cell_type": "code",
   "execution_count": 2,
   "metadata": {},
   "outputs": [
    {
     "data": {
      "text/plain": [
       "array([[-0.05773954, -0.3330855 , -0.24654489, -0.28356232],\n",
       "       [-0.82487521, -0.3330855 ,  0.46783454, -0.23172348],\n",
       "       [-0.05773954, -0.3330855 , -0.28101057, -0.28356232]])"
      ]
     },
     "execution_count": 2,
     "metadata": {},
     "output_type": "execute_result"
    }
   ],
   "source": [
    "from sklearn.model_selection import train_test_split\n",
    "\n",
    "train_x, eval_x, train_y, eval_y = train_test_split(\n",
    "    train_x, train_y, test_size=0.2, random_state=42\n",
    ")\n",
    "\n",
    "train_x[:3, :4]\n"
   ]
  },
  {
   "cell_type": "code",
   "execution_count": 3,
   "metadata": {},
   "outputs": [
    {
     "data": {
      "text/plain": [
       "0.7722829212190915"
      ]
     },
     "execution_count": 3,
     "metadata": {},
     "output_type": "execute_result"
    }
   ],
   "source": [
    "# train\n",
    "from sklearn.neighbors import KNeighborsClassifier\n",
    "from sklearn.model_selection import cross_validate, GridSearchCV\n",
    "\n",
    "model = KNeighborsClassifier()\n",
    "model.fit(train_x, train_y)\n",
    "model.score(eval_x, eval_y)\n"
   ]
  },
  {
   "cell_type": "code",
   "execution_count": 4,
   "metadata": {},
   "outputs": [
    {
     "data": {
      "text/plain": [
       "{'n_neighbors': 9, 'p': 2, 'weights': 'uniform'}"
      ]
     },
     "execution_count": 4,
     "metadata": {},
     "output_type": "execute_result"
    }
   ],
   "source": [
    "# tune the hyperparameters\n",
    "KNN = KNeighborsClassifier()\n",
    "KNN_param = {\n",
    "    \"n_neighbors\": np.arange(2, 11),\n",
    "    \"p\": [1, 2],\n",
    "    \"weights\": [\"uniform\", \"distance\"],\n",
    "}\n",
    "KNN_cv = GridSearchCV(estimator=KNN, param_grid=KNN_param, scoring=\"accuracy\", cv=5)\n",
    "KNN_cv.fit(train_x, train_y)\n",
    "KNN_cv.best_params_"
   ]
  },
  {
   "cell_type": "code",
   "execution_count": 5,
   "metadata": {},
   "outputs": [
    {
     "data": {
      "text/plain": [
       "0.780273805398528"
      ]
     },
     "execution_count": 5,
     "metadata": {},
     "output_type": "execute_result"
    }
   ],
   "source": [
    "# model = KNeighborsClassifier(n_neighbors=9, p=2, weights=\"uniform\")\n",
    "model = KNN_cv.best_estimator_\n",
    "cv_results = cross_validate(model, train_x, train_y, scoring=\"accuracy\", cv=5)\n",
    "cv_results[\"test_score\"].mean()\n",
    "\n"
   ]
  },
  {
   "cell_type": "code",
   "execution_count": 6,
   "metadata": {},
   "outputs": [],
   "source": [
    "# Evaluate the model.\n",
    "model.fit(train_x, train_y)\n",
    "preds = model.predict(test_x)\n",
    "d = {\"PassengerId\": [], \"Transported\": []}\n",
    "for p, i in zip(preds, test_df[\"passengerid\"]):\n",
    "    d[\"PassengerId\"].append(i)\n",
    "    d[\"Transported\"].append(p)\n",
    "\n",
    "pd.DataFrame(d).to_csv(\"data/preds.csv\", index=False)\n"
   ]
  },
  {
   "cell_type": "code",
   "execution_count": null,
   "metadata": {},
   "outputs": [],
   "source": []
  }
 ],
 "metadata": {
  "kernelspec": {
   "display_name": "Python 3.9.17 ('ml': venv)",
   "language": "python",
   "name": "python3"
  },
  "language_info": {
   "codemirror_mode": {
    "name": "ipython",
    "version": 3
   },
   "file_extension": ".py",
   "mimetype": "text/x-python",
   "name": "python",
   "nbconvert_exporter": "python",
   "pygments_lexer": "ipython3",
   "version": "3.11.6"
  },
  "orig_nbformat": 4,
  "vscode": {
   "interpreter": {
    "hash": "dbf23902112f63a418e5641bed0f2752948e7a39f6ebb907d1e9249d165f97b5"
   }
  }
 },
 "nbformat": 4,
 "nbformat_minor": 2
}
