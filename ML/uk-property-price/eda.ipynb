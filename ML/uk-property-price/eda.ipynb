{
 "cells": [
  {
   "cell_type": "code",
   "execution_count": 1,
   "metadata": {},
   "outputs": [],
   "source": [
    "import polars as pl"
   ]
  },
  {
   "cell_type": "code",
   "execution_count": 2,
   "metadata": {},
   "outputs": [
    {
     "data": {
      "text/html": [
       "<div><style>\n",
       ".dataframe > thead > tr,\n",
       ".dataframe > tbody > tr {\n",
       "  text-align: right;\n",
       "  white-space: pre-wrap;\n",
       "}\n",
       "</style>\n",
       "<small>shape: (5, 16)</small><table border=\"1\" class=\"dataframe\"><thead><tr><th>Transaction_unique_identifier</th><th>price</th><th>Date_of_Transfer</th><th>postcode</th><th>Property_Type</th><th>Old/New</th><th>Duration</th><th>PAON</th><th>SAON</th><th>Street</th><th>Locality</th><th>Town/City</th><th>District</th><th>County</th><th>PPDCategory_Type</th><th>Record_Status - monthly_file_only</th></tr><tr><td>str</td><td>i64</td><td>str</td><td>str</td><td>str</td><td>str</td><td>str</td><td>str</td><td>str</td><td>str</td><td>str</td><td>str</td><td>str</td><td>str</td><td>str</td><td>str</td></tr></thead><tbody><tr><td>&quot;{F887F88E-7D15…</td><td>70000</td><td>&quot;1995-07-07 00:…</td><td>&quot;MK15 9HP&quot;</td><td>&quot;D&quot;</td><td>&quot;N&quot;</td><td>&quot;F&quot;</td><td>&quot;31&quot;</td><td>&quot;&quot;</td><td>&quot;ALDRICH DRIVE&quot;</td><td>&quot;WILLEN&quot;</td><td>&quot;MILTON KEYNES&quot;</td><td>&quot;MILTON KEYNES&quot;</td><td>&quot;MILTON KEYNES&quot;</td><td>&quot;A&quot;</td><td>&quot;A&quot;</td></tr><tr><td>&quot;{40FD4DF2-5362…</td><td>44500</td><td>&quot;1995-02-03 00:…</td><td>&quot;SR6 0AQ&quot;</td><td>&quot;T&quot;</td><td>&quot;N&quot;</td><td>&quot;F&quot;</td><td>&quot;50&quot;</td><td>&quot;&quot;</td><td>&quot;HOWICK PARK&quot;</td><td>&quot;SUNDERLAND&quot;</td><td>&quot;SUNDERLAND&quot;</td><td>&quot;SUNDERLAND&quot;</td><td>&quot;TYNE AND WEAR&quot;</td><td>&quot;A&quot;</td><td>&quot;A&quot;</td></tr><tr><td>&quot;{7A99F89E-7D81…</td><td>56500</td><td>&quot;1995-01-13 00:…</td><td>&quot;CO6 1SQ&quot;</td><td>&quot;T&quot;</td><td>&quot;N&quot;</td><td>&quot;F&quot;</td><td>&quot;19&quot;</td><td>&quot;&quot;</td><td>&quot;BRICK KILN CLO…</td><td>&quot;COGGESHALL&quot;</td><td>&quot;COLCHESTER&quot;</td><td>&quot;BRAINTREE&quot;</td><td>&quot;ESSEX&quot;</td><td>&quot;A&quot;</td><td>&quot;A&quot;</td></tr><tr><td>&quot;{28225260-E61C…</td><td>58000</td><td>&quot;1995-07-28 00:…</td><td>&quot;B90 4TG&quot;</td><td>&quot;T&quot;</td><td>&quot;N&quot;</td><td>&quot;F&quot;</td><td>&quot;37&quot;</td><td>&quot;&quot;</td><td>&quot;RAINSBROOK DRI…</td><td>&quot;SHIRLEY&quot;</td><td>&quot;SOLIHULL&quot;</td><td>&quot;SOLIHULL&quot;</td><td>&quot;WEST MIDLANDS&quot;</td><td>&quot;A&quot;</td><td>&quot;A&quot;</td></tr><tr><td>&quot;{444D34D7-9BA6…</td><td>51000</td><td>&quot;1995-06-28 00:…</td><td>&quot;DY5 1SA&quot;</td><td>&quot;S&quot;</td><td>&quot;N&quot;</td><td>&quot;F&quot;</td><td>&quot;59&quot;</td><td>&quot;&quot;</td><td>&quot;MERRY HILL&quot;</td><td>&quot;BRIERLEY HILL&quot;</td><td>&quot;BRIERLEY HILL&quot;</td><td>&quot;DUDLEY&quot;</td><td>&quot;WEST MIDLANDS&quot;</td><td>&quot;A&quot;</td><td>&quot;A&quot;</td></tr></tbody></table></div>"
      ],
      "text/plain": [
       "shape: (5, 16)\n",
       "┌────────────┬───────┬────────────┬──────────┬───┬────────────┬────────────┬───────────┬───────────┐\n",
       "│ Transactio ┆ price ┆ Date_of_Tr ┆ postcode ┆ … ┆ District   ┆ County     ┆ PPDCatego ┆ Record_St │\n",
       "│ n_unique_i ┆ ---   ┆ ansfer     ┆ ---      ┆   ┆ ---        ┆ ---        ┆ ry_Type   ┆ atus -    │\n",
       "│ dentifier  ┆ i64   ┆ ---        ┆ str      ┆   ┆ str        ┆ str        ┆ ---       ┆ monthly_f │\n",
       "│ ---        ┆       ┆ str        ┆          ┆   ┆            ┆            ┆ str       ┆ ile_onl…  │\n",
       "│ str        ┆       ┆            ┆          ┆   ┆            ┆            ┆           ┆ ---       │\n",
       "│            ┆       ┆            ┆          ┆   ┆            ┆            ┆           ┆ str       │\n",
       "╞════════════╪═══════╪════════════╪══════════╪═══╪════════════╪════════════╪═══════════╪═══════════╡\n",
       "│ {F887F88E- ┆ 70000 ┆ 1995-07-07 ┆ MK15 9HP ┆ … ┆ MILTON     ┆ MILTON     ┆ A         ┆ A         │\n",
       "│ 7D15-4415- ┆       ┆ 00:00      ┆          ┆   ┆ KEYNES     ┆ KEYNES     ┆           ┆           │\n",
       "│ 804E-52EAC ┆       ┆            ┆          ┆   ┆            ┆            ┆           ┆           │\n",
       "│ 2F…        ┆       ┆            ┆          ┆   ┆            ┆            ┆           ┆           │\n",
       "│ {40FD4DF2- ┆ 44500 ┆ 1995-02-03 ┆ SR6 0AQ  ┆ … ┆ SUNDERLAND ┆ TYNE AND   ┆ A         ┆ A         │\n",
       "│ 5362-407C- ┆       ┆ 00:00      ┆          ┆   ┆            ┆ WEAR       ┆           ┆           │\n",
       "│ 92BC-566E2 ┆       ┆            ┆          ┆   ┆            ┆            ┆           ┆           │\n",
       "│ CC…        ┆       ┆            ┆          ┆   ┆            ┆            ┆           ┆           │\n",
       "│ {7A99F89E- ┆ 56500 ┆ 1995-01-13 ┆ CO6 1SQ  ┆ … ┆ BRAINTREE  ┆ ESSEX      ┆ A         ┆ A         │\n",
       "│ 7D81-4E45- ┆       ┆ 00:00      ┆          ┆   ┆            ┆            ┆           ┆           │\n",
       "│ ABD5-566E4 ┆       ┆            ┆          ┆   ┆            ┆            ┆           ┆           │\n",
       "│ 9A…        ┆       ┆            ┆          ┆   ┆            ┆            ┆           ┆           │\n",
       "│ {28225260- ┆ 58000 ┆ 1995-07-28 ┆ B90 4TG  ┆ … ┆ SOLIHULL   ┆ WEST       ┆ A         ┆ A         │\n",
       "│ E61C-4E57- ┆       ┆ 00:00      ┆          ┆   ┆            ┆ MIDLANDS   ┆           ┆           │\n",
       "│ 8B56-566E5 ┆       ┆            ┆          ┆   ┆            ┆            ┆           ┆           │\n",
       "│ 28…        ┆       ┆            ┆          ┆   ┆            ┆            ┆           ┆           │\n",
       "│ {444D34D7- ┆ 51000 ┆ 1995-06-28 ┆ DY5 1SA  ┆ … ┆ DUDLEY     ┆ WEST       ┆ A         ┆ A         │\n",
       "│ 9BA6-43A7- ┆       ┆ 00:00      ┆          ┆   ┆            ┆ MIDLANDS   ┆           ┆           │\n",
       "│ B695-4F489 ┆       ┆            ┆          ┆   ┆            ┆            ┆           ┆           │\n",
       "│ 80…        ┆       ┆            ┆          ┆   ┆            ┆            ┆           ┆           │\n",
       "└────────────┴───────┴────────────┴──────────┴───┴────────────┴────────────┴───────────┴───────────┘"
      ]
     },
     "execution_count": 2,
     "metadata": {},
     "output_type": "execute_result"
    }
   ],
   "source": [
    "columns = [\n",
    "    \"Transaction_unique_identifier\",\n",
    "    \"price\",\n",
    "    \"Date_of_Transfer\",\n",
    "    \"postcode\",\n",
    "    \"Property_Type\",\n",
    "    \"Old/New\",\n",
    "    \"Duration\",\n",
    "    \"PAON\",\n",
    "    \"SAON\",\n",
    "    \"Street\",\n",
    "    \"Locality\",\n",
    "    \"Town/City\",\n",
    "    \"District\",\n",
    "    \"County\",\n",
    "    \"PPDCategory_Type\",\n",
    "    \"Record_Status - monthly_file_only\",\n",
    "]\n",
    "df = pl.read_csv(\"data/202304.csv\", has_header=False)\n",
    "df.columns = columns\n",
    "\n",
    "df.head()"
   ]
  },
  {
   "cell_type": "code",
   "execution_count": 3,
   "metadata": {},
   "outputs": [
    {
     "data": {
      "text/html": [
       "<div><style>\n",
       ".dataframe > thead > tr,\n",
       ".dataframe > tbody > tr {\n",
       "  text-align: right;\n",
       "  white-space: pre-wrap;\n",
       "}\n",
       "</style>\n",
       "<small>shape: (9, 17)</small><table border=\"1\" class=\"dataframe\"><thead><tr><th>describe</th><th>Transaction_unique_identifier</th><th>price</th><th>Date_of_Transfer</th><th>postcode</th><th>Property_Type</th><th>Old/New</th><th>Duration</th><th>PAON</th><th>SAON</th><th>Street</th><th>Locality</th><th>Town/City</th><th>District</th><th>County</th><th>PPDCategory_Type</th><th>Record_Status - monthly_file_only</th></tr><tr><td>str</td><td>str</td><td>f64</td><td>str</td><td>str</td><td>str</td><td>str</td><td>str</td><td>str</td><td>str</td><td>str</td><td>str</td><td>str</td><td>str</td><td>str</td><td>str</td><td>str</td></tr></thead><tbody><tr><td>&quot;count&quot;</td><td>&quot;28276228&quot;</td><td>2.8276228e7</td><td>&quot;28276228&quot;</td><td>&quot;28276228&quot;</td><td>&quot;28276228&quot;</td><td>&quot;28276228&quot;</td><td>&quot;28276228&quot;</td><td>&quot;28276228&quot;</td><td>&quot;28276228&quot;</td><td>&quot;28276228&quot;</td><td>&quot;28276228&quot;</td><td>&quot;28276228&quot;</td><td>&quot;28276228&quot;</td><td>&quot;28276228&quot;</td><td>&quot;28276228&quot;</td><td>&quot;28276228&quot;</td></tr><tr><td>&quot;null_count&quot;</td><td>&quot;0&quot;</td><td>0.0</td><td>&quot;0&quot;</td><td>&quot;0&quot;</td><td>&quot;0&quot;</td><td>&quot;0&quot;</td><td>&quot;0&quot;</td><td>&quot;0&quot;</td><td>&quot;0&quot;</td><td>&quot;0&quot;</td><td>&quot;0&quot;</td><td>&quot;0&quot;</td><td>&quot;0&quot;</td><td>&quot;0&quot;</td><td>&quot;0&quot;</td><td>&quot;0&quot;</td></tr><tr><td>&quot;mean&quot;</td><td>null</td><td>218130.490099</td><td>null</td><td>null</td><td>null</td><td>null</td><td>null</td><td>null</td><td>null</td><td>null</td><td>null</td><td>null</td><td>null</td><td>null</td><td>null</td><td>null</td></tr><tr><td>&quot;std&quot;</td><td>null</td><td>868852.44969</td><td>null</td><td>null</td><td>null</td><td>null</td><td>null</td><td>null</td><td>null</td><td>null</td><td>null</td><td>null</td><td>null</td><td>null</td><td>null</td><td>null</td></tr><tr><td>&quot;min&quot;</td><td>&quot;{000000AC-478E…</td><td>1.0</td><td>&quot;1995-01-01 00:…</td><td>&quot;&quot;</td><td>&quot;D&quot;</td><td>&quot;N&quot;</td><td>&quot;F&quot;</td><td>&quot;&quot;</td><td>&quot;&quot;</td><td>&quot;&quot;</td><td>&quot;&quot;</td><td>&quot;ABBOTS LANGLEY…</td><td>&quot;ABERCONWY&quot;</td><td>&quot;AVON&quot;</td><td>&quot;A&quot;</td><td>&quot;A&quot;</td></tr><tr><td>&quot;25%&quot;</td><td>null</td><td>84950.0</td><td>null</td><td>null</td><td>null</td><td>null</td><td>null</td><td>null</td><td>null</td><td>null</td><td>null</td><td>null</td><td>null</td><td>null</td><td>null</td><td>null</td></tr><tr><td>&quot;50%&quot;</td><td>null</td><td>149950.0</td><td>null</td><td>null</td><td>null</td><td>null</td><td>null</td><td>null</td><td>null</td><td>null</td><td>null</td><td>null</td><td>null</td><td>null</td><td>null</td><td>null</td></tr><tr><td>&quot;75%&quot;</td><td>null</td><td>247500.0</td><td>null</td><td>null</td><td>null</td><td>null</td><td>null</td><td>null</td><td>null</td><td>null</td><td>null</td><td>null</td><td>null</td><td>null</td><td>null</td><td>null</td></tr><tr><td>&quot;max&quot;</td><td>&quot;{FFFFFE71-D9FC…</td><td>5.943e8</td><td>&quot;2023-04-27 00:…</td><td>&quot;YO91 1RT&quot;</td><td>&quot;T&quot;</td><td>&quot;Y&quot;</td><td>&quot;U&quot;</td><td>&quot;ZYTEK HOUSE&quot;</td><td>&quot;ZURICH HOUSE 2…</td><td>&quot;ZYBURN COURT&quot;</td><td>&quot;ZOUCH&quot;</td><td>&quot;YSTRAD MEURIG&quot;</td><td>&quot;YORK&quot;</td><td>&quot;YORK&quot;</td><td>&quot;B&quot;</td><td>&quot;A&quot;</td></tr></tbody></table></div>"
      ],
      "text/plain": [
       "shape: (9, 17)\n",
       "┌───────────┬───────────┬───────────┬───────────┬───┬───────────┬──────────┬───────────┬───────────┐\n",
       "│ describe  ┆ Transacti ┆ price     ┆ Date_of_T ┆ … ┆ District  ┆ County   ┆ PPDCatego ┆ Record_St │\n",
       "│ ---       ┆ on_unique ┆ ---       ┆ ransfer   ┆   ┆ ---       ┆ ---      ┆ ry_Type   ┆ atus -    │\n",
       "│ str       ┆ _identifi ┆ f64       ┆ ---       ┆   ┆ str       ┆ str      ┆ ---       ┆ monthly_f │\n",
       "│           ┆ er        ┆           ┆ str       ┆   ┆           ┆          ┆ str       ┆ ile_onl…  │\n",
       "│           ┆ ---       ┆           ┆           ┆   ┆           ┆          ┆           ┆ ---       │\n",
       "│           ┆ str       ┆           ┆           ┆   ┆           ┆          ┆           ┆ str       │\n",
       "╞═══════════╪═══════════╪═══════════╪═══════════╪═══╪═══════════╪══════════╪═══════════╪═══════════╡\n",
       "│ count     ┆ 28276228  ┆ 2.8276228 ┆ 28276228  ┆ … ┆ 28276228  ┆ 28276228 ┆ 28276228  ┆ 28276228  │\n",
       "│           ┆           ┆ e7        ┆           ┆   ┆           ┆          ┆           ┆           │\n",
       "│ null_coun ┆ 0         ┆ 0.0       ┆ 0         ┆ … ┆ 0         ┆ 0        ┆ 0         ┆ 0         │\n",
       "│ t         ┆           ┆           ┆           ┆   ┆           ┆          ┆           ┆           │\n",
       "│ mean      ┆ null      ┆ 218130.49 ┆ null      ┆ … ┆ null      ┆ null     ┆ null      ┆ null      │\n",
       "│           ┆           ┆ 0099      ┆           ┆   ┆           ┆          ┆           ┆           │\n",
       "│ std       ┆ null      ┆ 868852.44 ┆ null      ┆ … ┆ null      ┆ null     ┆ null      ┆ null      │\n",
       "│           ┆           ┆ 969       ┆           ┆   ┆           ┆          ┆           ┆           │\n",
       "│ min       ┆ {000000AC ┆ 1.0       ┆ 1995-01-0 ┆ … ┆ ABERCONWY ┆ AVON     ┆ A         ┆ A         │\n",
       "│           ┆ -478E-47B ┆           ┆ 1 00:00   ┆   ┆           ┆          ┆           ┆           │\n",
       "│           ┆ 3-9B71-7C ┆           ┆           ┆   ┆           ┆          ┆           ┆           │\n",
       "│           ┆ 1E9BB…    ┆           ┆           ┆   ┆           ┆          ┆           ┆           │\n",
       "│ 25%       ┆ null      ┆ 84950.0   ┆ null      ┆ … ┆ null      ┆ null     ┆ null      ┆ null      │\n",
       "│ 50%       ┆ null      ┆ 149950.0  ┆ null      ┆ … ┆ null      ┆ null     ┆ null      ┆ null      │\n",
       "│ 75%       ┆ null      ┆ 247500.0  ┆ null      ┆ … ┆ null      ┆ null     ┆ null      ┆ null      │\n",
       "│ max       ┆ {FFFFFE71 ┆ 5.943e8   ┆ 2023-04-2 ┆ … ┆ YORK      ┆ YORK     ┆ B         ┆ A         │\n",
       "│           ┆ -D9FC-423 ┆           ┆ 7 00:00   ┆   ┆           ┆          ┆           ┆           │\n",
       "│           ┆ 2-AD14-81 ┆           ┆           ┆   ┆           ┆          ┆           ┆           │\n",
       "│           ┆ 9C838…    ┆           ┆           ┆   ┆           ┆          ┆           ┆           │\n",
       "└───────────┴───────────┴───────────┴───────────┴───┴───────────┴──────────┴───────────┴───────────┘"
      ]
     },
     "execution_count": 3,
     "metadata": {},
     "output_type": "execute_result"
    }
   ],
   "source": [
    "df.describe()"
   ]
  },
  {
   "cell_type": "code",
   "execution_count": 5,
   "metadata": {},
   "outputs": [
    {
     "data": {
      "text/html": [
       "<div><style>\n",
       ".dataframe > thead > tr,\n",
       ".dataframe > tbody > tr {\n",
       "  text-align: right;\n",
       "  white-space: pre-wrap;\n",
       "}\n",
       "</style>\n",
       "<small>shape: (1, 16)</small><table border=\"1\" class=\"dataframe\"><thead><tr><th>Transaction_unique_identifier</th><th>price</th><th>Date_of_Transfer</th><th>postcode</th><th>Property_Type</th><th>Old/New</th><th>Duration</th><th>PAON</th><th>SAON</th><th>Street</th><th>Locality</th><th>Town/City</th><th>District</th><th>County</th><th>PPDCategory_Type</th><th>Record_Status - monthly_file_only</th></tr><tr><td>str</td><td>i64</td><td>str</td><td>str</td><td>str</td><td>str</td><td>str</td><td>str</td><td>str</td><td>str</td><td>str</td><td>str</td><td>str</td><td>str</td><td>str</td><td>str</td></tr></thead><tbody><tr><td>&quot;{F887F88E-7D15…</td><td>70000</td><td>&quot;1995-07-07 00:…</td><td>&quot;MK15 9HP&quot;</td><td>&quot;D&quot;</td><td>&quot;N&quot;</td><td>&quot;F&quot;</td><td>&quot;31&quot;</td><td>&quot;&quot;</td><td>&quot;ALDRICH DRIVE&quot;</td><td>&quot;WILLEN&quot;</td><td>&quot;MILTON KEYNES&quot;</td><td>&quot;MILTON KEYNES&quot;</td><td>&quot;MILTON KEYNES&quot;</td><td>&quot;A&quot;</td><td>&quot;A&quot;</td></tr></tbody></table></div>"
      ],
      "text/plain": [
       "shape: (1, 16)\n",
       "┌─────────────┬───────┬─────────────┬──────────┬───┬────────────┬────────┬────────────┬────────────┐\n",
       "│ Transaction ┆ price ┆ Date_of_Tra ┆ postcode ┆ … ┆ District   ┆ County ┆ PPDCategor ┆ Record_Sta │\n",
       "│ _unique_ide ┆ ---   ┆ nsfer       ┆ ---      ┆   ┆ ---        ┆ ---    ┆ y_Type     ┆ tus - mont │\n",
       "│ ntifier     ┆ i64   ┆ ---         ┆ str      ┆   ┆ str        ┆ str    ┆ ---        ┆ hly_file_o │\n",
       "│ ---         ┆       ┆ str         ┆          ┆   ┆            ┆        ┆ str        ┆ nl…        │\n",
       "│ str         ┆       ┆             ┆          ┆   ┆            ┆        ┆            ┆ ---        │\n",
       "│             ┆       ┆             ┆          ┆   ┆            ┆        ┆            ┆ str        │\n",
       "╞═════════════╪═══════╪═════════════╪══════════╪═══╪════════════╪════════╪════════════╪════════════╡\n",
       "│ {F887F88E-7 ┆ 70000 ┆ 1995-07-07  ┆ MK15 9HP ┆ … ┆ MILTON     ┆ MILTON ┆ A          ┆ A          │\n",
       "│ D15-4415-80 ┆       ┆ 00:00       ┆          ┆   ┆ KEYNES     ┆ KEYNES ┆            ┆            │\n",
       "│ 4E-52EAC2F… ┆       ┆             ┆          ┆   ┆            ┆        ┆            ┆            │\n",
       "└─────────────┴───────┴─────────────┴──────────┴───┴────────────┴────────┴────────────┴────────────┘"
      ]
     },
     "execution_count": 5,
     "metadata": {},
     "output_type": "execute_result"
    }
   ],
   "source": [
    "df[0]"
   ]
  }
 ],
 "metadata": {
  "kernelspec": {
   "display_name": "ml",
   "language": "python",
   "name": "python3"
  },
  "language_info": {
   "codemirror_mode": {
    "name": "ipython",
    "version": 3
   },
   "file_extension": ".py",
   "mimetype": "text/x-python",
   "name": "python",
   "nbconvert_exporter": "python",
   "pygments_lexer": "ipython3",
   "version": "3.11.6"
  }
 },
 "nbformat": 4,
 "nbformat_minor": 2
}
