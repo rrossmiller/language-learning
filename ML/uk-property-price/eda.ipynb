{
 "cells": [
  {
   "cell_type": "code",
   "execution_count": null,
   "metadata": {},
   "outputs": [],
   "source": [
    "import polars as pl"
   ]
  },
  {
   "cell_type": "code",
   "execution_count": null,
   "metadata": {},
   "outputs": [],
   "source": [
    "columns = [\n",
    "    \"Transaction_unique_identifier\",\n",
    "    \"price\",\n",
    "    \"Date_of_Transfer\",\n",
    "    \"postcode\",\n",
    "    \"Property_Type\",\n",
    "    \"Old/New\",\n",
    "    \"Duration\",\n",
    "    \"PAON\",\n",
    "    \"SAON\",\n",
    "    \"Street\",\n",
    "    \"Locality\",\n",
    "    \"Town/City\",\n",
    "    \"District\",\n",
    "    \"County\",\n",
    "    \"PPDCategory_Type\",\n",
    "    \"Record_Status - monthly_file_only\",\n",
    "]\n",
    "df = pl.read_csv(\"data/202304.csv\", has_header=False)\n",
    "df.columns = columns\n",
    "\n",
    "df.head()"
   ]
  },
  {
   "cell_type": "code",
   "execution_count": null,
   "metadata": {},
   "outputs": [],
   "source": [
    "df.describe()"
   ]
  },
  {
   "cell_type": "code",
   "execution_count": null,
   "metadata": {},
   "outputs": [],
   "source": [
    "df[0]"
   ]
  }
 ],
 "metadata": {
  "kernelspec": {
   "display_name": "ml",
   "language": "python",
   "name": "python3"
  },
  "language_info": {
   "codemirror_mode": {
    "name": "ipython",
    "version": 3
   },
   "file_extension": ".py",
   "mimetype": "text/x-python",
   "name": "python",
   "nbconvert_exporter": "python",
   "pygments_lexer": "ipython3",
   "version": "3.11.6"
  }
 },
 "nbformat": 4,
 "nbformat_minor": 2
}
