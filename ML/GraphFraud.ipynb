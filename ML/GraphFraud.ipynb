{
 "cells": [
  {
   "cell_type": "code",
   "execution_count": 1,
   "metadata": {},
   "outputs": [
    {
     "name": "stdout",
     "output_type": "stream",
     "text": [
      "Done loading data from cached files.\n",
      "['net_rsr', 'net_rtr', 'net_rur']\n",
      "['review']\n",
      "{'test_mask': tensor([0, 0, 0,  ..., 1, 0, 0], dtype=torch.uint8), 'val_mask': tensor([1, 0, 0,  ..., 0, 0, 0], dtype=torch.uint8), 'train_mask': tensor([0, 1, 1,  ..., 0, 1, 1], dtype=torch.uint8), 'label': tensor([0, 0, 0,  ..., 0, 0, 0]), 'feature': tensor([[0.0224, 0.0705, 0.4287,  ..., 0.5920, 0.1393, 0.4975],\n",
      "        [0.0249, 1.0000, 1.0000,  ..., 0.5920, 0.1393, 0.4975],\n",
      "        [0.0062, 0.0705, 0.4287,  ..., 0.5920, 0.1393, 0.4975],\n",
      "        ...,\n",
      "        [0.0091, 0.3500, 0.4287,  ..., 0.4826, 0.8010, 0.1642],\n",
      "        [0.0062, 0.0705, 1.0000,  ..., 0.4428, 0.4478, 0.5871],\n",
      "        [0.0032, 0.3500, 0.4287,  ..., 0.4428, 0.4478, 0.5871]])}\n",
      "dict_keys(['test_mask', 'val_mask', 'train_mask', 'label', 'feature'])\n",
      "\n",
      "tensor([[0.0224, 0.0705, 0.4287,  ..., 0.5920, 0.1393, 0.4975],\n",
      "        [0.0249, 1.0000, 1.0000,  ..., 0.5920, 0.1393, 0.4975],\n",
      "        [0.0062, 0.0705, 0.4287,  ..., 0.5920, 0.1393, 0.4975],\n",
      "        ...,\n",
      "        [0.0091, 0.3500, 0.4287,  ..., 0.4826, 0.8010, 0.1642],\n",
      "        [0.0062, 0.0705, 1.0000,  ..., 0.4428, 0.4478, 0.5871],\n",
      "        [0.0032, 0.3500, 0.4287,  ..., 0.4428, 0.4478, 0.5871]])\n"
     ]
    }
   ],
   "source": [
    "import dgl\n",
    "from dgl.data import FraudDataset\n",
    "\n",
    "dataset = FraudDataset(\"yelp\")\n",
    "g = dataset[0]\n",
    "print(g.etypes)\n",
    "print(g.ntypes)\n",
    "print(g.ndata)\n",
    "print(g.ndata.keys())\n",
    "print()\n",
    "print(g.ndata[\"feature\"])\n"
   ]
  },
  {
   "cell_type": "code",
   "execution_count": 2,
   "metadata": {},
   "outputs": [
    {
     "name": "stdout",
     "output_type": "stream",
     "text": [
      "{0: 27441, 1: 4726} tensor(0.8531)\n",
      "{0: 3944, 1: 651} tensor(0.8583)\n",
      "{0: 7892, 1: 1300} tensor(0.8586)\n"
     ]
    }
   ],
   "source": [
    "mask = g.ndata[\"train_mask\"].to(bool)\n",
    "l = {0: 0, 1: 0}\n",
    "\n",
    "for x in g.ndata[\"label\"][mask].numpy():\n",
    "    l[x] += 1\n",
    "print(l, l[0] / (mask.sum()))\n",
    "\n",
    "mask = g.ndata[\"val_mask\"].to(bool)\n",
    "l = {0: 0, 1: 0}\n",
    "\n",
    "for x in g.ndata[\"label\"][mask].numpy():\n",
    "    l[x] += 1\n",
    "print(l, l[0] / (mask.sum()))\n",
    "\n",
    "mask = g.ndata[\"test_mask\"].to(bool)\n",
    "l = {0: 0, 1: 0}\n",
    "\n",
    "for x in g.ndata[\"label\"][mask].numpy():\n",
    "    l[x] += 1\n",
    "print(l, l[0] / (mask.sum()))\n"
   ]
  },
  {
   "cell_type": "code",
   "execution_count": 3,
   "metadata": {},
   "outputs": [],
   "source": [
    "import torch\n",
    "from torch.nn import functional as F\n",
    "import pytorch_lightning as pl\n",
    "import dgl.nn.pytorch as gnn\n",
    "from torchmetrics import F1Score\n",
    "\n",
    "\n",
    "class GCN(pl.LightningModule):\n",
    "    # class GCN(nn.Module):\n",
    "    def __init__(self, g, in_feats, h_feats, num_classes, rel_names, batch_size=1):\n",
    "        super().__init__()\n",
    "        # len(output_nodes) = batch_size\n",
    "\n",
    "        self.labels = g.ndata[\"label\"]\n",
    "        self.train_mask = g.ndata[\"train_mask\"].to(bool)\n",
    "        self.val_mask = g.ndata[\"val_mask\"].to(bool)\n",
    "        self.test_mask = g.ndata[\"test_mask\"].to(bool)\n",
    "\n",
    "        if False:\n",
    "            self.f1 = F1Score(\"binary\").to(\"cuda\")\n",
    "        else:\n",
    "            self.f1 = F1Score(\"binary\")\n",
    "\n",
    "        self.conv0 = gnn.HeteroGraphConv(\n",
    "            {rel: gnn.SAGEConv(in_feats, h_feats, \"mean\") for rel in rel_names}\n",
    "        )\n",
    "        self.conv1 = gnn.HeteroGraphConv(\n",
    "            {rel: gnn.SAGEConv(h_feats, num_classes, \"mean\") for rel in rel_names}\n",
    "        )\n",
    "        # self.conv0 = gnn.HeteroGraphConv(\n",
    "        #     {\n",
    "        #         \"net_rsr\": gnn.GraphConv(in_feats, h_feats),\n",
    "        #         \"net_rtr\": gnn.GraphConv(in_feats, h_feats),\n",
    "        #         \"net_rur\": gnn.GraphConv(in_feats, h_feats),\n",
    "        #     },\n",
    "        #     aggregate=\"sum\",\n",
    "        # )\n",
    "        # self.conv1 = gnn.HeteroGraphConv(\n",
    "        #     {\n",
    "        #         \"net_rsr\": gnn.GraphConv(h_feats, num_classes),\n",
    "        #         \"net_rtr\": gnn.GraphConv(h_feats, num_classes),\n",
    "        #         \"net_rur\": gnn.GraphConv(h_feats, num_classes),\n",
    "        #     },\n",
    "        #     aggregate=\"sum\",\n",
    "        # )\n",
    "\n",
    "    def forward(self, g, in_feat):\n",
    "        h = self.conv0(g, in_feat)\n",
    "        h = F.relu(h[\"review\"])\n",
    "        h = self.conv1(g, {\"review\": h})\n",
    "        return h\n",
    "\n",
    "    def training_step(self, batch, batch_idx):\n",
    "        # mini batch training -- https://docs.dgl.ai/en/latest/guide/minibatch-node.html#guide-minibatch-node-classification-sampler\n",
    "        # Forward\n",
    "        input_nodes, output_nodes, blocks = batch\n",
    "\n",
    "        # fwd pass\n",
    "        h = blocks[0].ndata[\"feature\"]\n",
    "        h = self.conv0(blocks[0], h)\n",
    "        h = F.relu(h[\"review\"])\n",
    "        logits = self.conv1(blocks[1], {\"review\": h})[\"review\"]\n",
    "\n",
    "        # Compute prediction\n",
    "        pred = logits.argmax(1).to(torch.int8)\n",
    "\n",
    "        # Compute loss\n",
    "        loss = F.cross_entropy(\n",
    "            logits,\n",
    "            self.labels[output_nodes],\n",
    "        )\n",
    "\n",
    "        # Compute accuracy on training/validation/test\n",
    "        train_acc = (pred == self.labels[output_nodes]).float().mean()\n",
    "\n",
    "        self.log(\"loss\", loss, prog_bar=True, on_epoch=True, batch_size=len(output_nodes))\n",
    "        self.log(\n",
    "            \"acc\", train_acc, prog_bar=True, on_epoch=True, batch_size=len(output_nodes)\n",
    "        )\n",
    "        return {\"loss\": loss, \"acc\": train_acc}\n",
    "\n",
    "    def validation_step(self, batch, batch_idx):\n",
    "        # Forward\n",
    "        input_nodes, output_nodes, blocks = batch\n",
    "\n",
    "        # fwd pass\n",
    "        h = blocks[0].ndata[\"feature\"]\n",
    "        h = self.conv0(blocks[0], h)\n",
    "        h = F.relu(h[\"review\"])\n",
    "        logits = self.conv1(blocks[1], {\"review\": h})[\"review\"]\n",
    "\n",
    "        # Compute prediction\n",
    "        pred = logits.argmax(1).to(torch.int8)\n",
    "\n",
    "        # Compute loss\n",
    "        loss = F.cross_entropy(\n",
    "            logits,\n",
    "            self.labels[output_nodes],\n",
    "        )\n",
    "\n",
    "        # Compute accuracy on training/validation/test\n",
    "        val_acc = (pred == self.labels[output_nodes]).float().mean()\n",
    "        f1 = self.f1(pred, self.labels[output_nodes]).item()\n",
    "\n",
    "        self.log(\n",
    "            \"val_loss\", loss, prog_bar=True, on_epoch=True, batch_size=len(output_nodes)\n",
    "        )\n",
    "        self.log(\n",
    "            \"val_acc\",\n",
    "            val_acc,\n",
    "            prog_bar=True,\n",
    "            on_epoch=True,\n",
    "            batch_size=len(output_nodes),\n",
    "        )\n",
    "        self.log(\"val_f1\", f1, prog_bar=True, on_epoch=True, batch_size=len(output_nodes))\n",
    "        return {\"val_loss\": loss, \"val_acc\": val_acc, \"val_f1\": f1}\n",
    "\n",
    "    def test_step(self, batch, batch_idx):\n",
    "        # Forward\n",
    "        input_nodes, output_nodes, blocks = batch\n",
    "\n",
    "        # fwd pass\n",
    "        h = blocks[0].ndata[\"feature\"]\n",
    "        h = self.conv0(blocks[0], h)\n",
    "        h = F.relu(h[\"review\"])\n",
    "        logits = self.conv1(blocks[1], {\"review\": h})[\"review\"]\n",
    "\n",
    "        # Compute prediction\n",
    "        pred = logits.argmax(1).to(torch.int8)\n",
    "\n",
    "        # Compute loss\n",
    "        loss = F.cross_entropy(\n",
    "            logits,\n",
    "            self.labels[output_nodes],\n",
    "        )\n",
    "\n",
    "        # Compute accuracy on training/validation/test\n",
    "        test_acc = (pred == self.labels[output_nodes]).float().mean()\n",
    "        f1 = self.f1(pred, self.labels[output_nodes]).item()\n",
    "\n",
    "        self.log(\n",
    "            \"test_loss\", loss, prog_bar=True, on_epoch=True, batch_size=len(output_nodes)\n",
    "        )\n",
    "        self.log(\n",
    "            \"test_acc\",\n",
    "            test_acc,\n",
    "            prog_bar=True,\n",
    "            on_epoch=True,\n",
    "            batch_size=len(output_nodes),\n",
    "        )\n",
    "        self.log(\"f1\", f1, prog_bar=True, on_epoch=True, batch_size=len(output_nodes))\n",
    "        return {\"test_loss\": loss, \"test_acc\": test_acc, \"f1\": f1}\n",
    "\n",
    "    def configure_optimizers(self):\n",
    "        return torch.optim.Adam(self.parameters(), lr=0.01)\n"
   ]
  },
  {
   "cell_type": "code",
   "execution_count": 4,
   "metadata": {},
   "outputs": [
    {
     "ename": "RuntimeError",
     "evalue": "CUDA unknown error - this may be due to an incorrectly set up environment, e.g. changing env variable CUDA_VISIBLE_DEVICES after program start. Setting the available devices to be zero.",
     "output_type": "error",
     "traceback": [
      "\u001b[0;31m---------------------------------------------------------------------------\u001b[0m",
      "\u001b[0;31mRuntimeError\u001b[0m                              Traceback (most recent call last)",
      "Cell \u001b[0;32mIn[4], line 8\u001b[0m\n\u001b[1;32m      6\u001b[0m     device \u001b[38;5;241m=\u001b[39m \u001b[38;5;124m\"\u001b[39m\u001b[38;5;124mcuda\u001b[39m\u001b[38;5;124m\"\u001b[39m\n\u001b[1;32m      7\u001b[0m batch_size \u001b[38;5;241m=\u001b[39m \u001b[38;5;28mlen\u001b[39m(g\u001b[38;5;241m.\u001b[39mndata[\u001b[38;5;124m\"\u001b[39m\u001b[38;5;124mtrain_mask\u001b[39m\u001b[38;5;124m\"\u001b[39m])\n\u001b[0;32m----> 8\u001b[0m train_idx \u001b[38;5;241m=\u001b[39m \u001b[43mtorch\u001b[49m\u001b[38;5;241;43m.\u001b[39;49m\u001b[43mtensor\u001b[49m\u001b[43m(\u001b[49m\u001b[43m[\u001b[49m\u001b[43mi\u001b[49m\u001b[43m \u001b[49m\u001b[38;5;28;43;01mfor\u001b[39;49;00m\u001b[43m \u001b[49m\u001b[43mi\u001b[49m\u001b[43m,\u001b[49m\u001b[43m \u001b[49m\u001b[43mx\u001b[49m\u001b[43m \u001b[49m\u001b[38;5;129;43;01min\u001b[39;49;00m\u001b[43m \u001b[49m\u001b[38;5;28;43menumerate\u001b[39;49m\u001b[43m(\u001b[49m\u001b[43mg\u001b[49m\u001b[38;5;241;43m.\u001b[39;49m\u001b[43mndata\u001b[49m\u001b[43m[\u001b[49m\u001b[38;5;124;43m\"\u001b[39;49m\u001b[38;5;124;43mtrain_mask\u001b[39;49m\u001b[38;5;124;43m\"\u001b[39;49m\u001b[43m]\u001b[49m\u001b[43m)\u001b[49m\u001b[43m \u001b[49m\u001b[38;5;28;43;01mif\u001b[39;49;00m\u001b[43m \u001b[49m\u001b[43mx\u001b[49m\u001b[43m \u001b[49m\u001b[38;5;241;43m>\u001b[39;49m\u001b[43m \u001b[49m\u001b[38;5;241;43m0\u001b[39;49m\u001b[43m]\u001b[49m\u001b[43m)\u001b[49m\u001b[38;5;241;43m.\u001b[39;49m\u001b[43mto\u001b[49m\u001b[43m(\u001b[49m\n\u001b[1;32m      9\u001b[0m \u001b[43m    \u001b[49m\u001b[43mdevice\u001b[49m\n\u001b[1;32m     10\u001b[0m \u001b[43m)\u001b[49m\n\u001b[1;32m     11\u001b[0m val_idx \u001b[38;5;241m=\u001b[39m torch\u001b[38;5;241m.\u001b[39mtensor([i \u001b[38;5;28;01mfor\u001b[39;00m i, x \u001b[38;5;129;01min\u001b[39;00m \u001b[38;5;28menumerate\u001b[39m(g\u001b[38;5;241m.\u001b[39mndata[\u001b[38;5;124m\"\u001b[39m\u001b[38;5;124mval_mask\u001b[39m\u001b[38;5;124m\"\u001b[39m]) \u001b[38;5;28;01mif\u001b[39;00m x \u001b[38;5;241m>\u001b[39m \u001b[38;5;241m0\u001b[39m])\u001b[38;5;241m.\u001b[39mto(\n\u001b[1;32m     12\u001b[0m     device\n\u001b[1;32m     13\u001b[0m )\n\u001b[1;32m     14\u001b[0m test_idx \u001b[38;5;241m=\u001b[39m torch\u001b[38;5;241m.\u001b[39mtensor([i \u001b[38;5;28;01mfor\u001b[39;00m i, x \u001b[38;5;129;01min\u001b[39;00m \u001b[38;5;28menumerate\u001b[39m(g\u001b[38;5;241m.\u001b[39mndata[\u001b[38;5;124m\"\u001b[39m\u001b[38;5;124mtest_mask\u001b[39m\u001b[38;5;124m\"\u001b[39m]) \u001b[38;5;28;01mif\u001b[39;00m x \u001b[38;5;241m>\u001b[39m \u001b[38;5;241m0\u001b[39m])\u001b[38;5;241m.\u001b[39mto(\n\u001b[1;32m     15\u001b[0m     device\n\u001b[1;32m     16\u001b[0m )\n",
      "File \u001b[0;32m~/.venv/ml/lib/python3.10/site-packages/torch/cuda/__init__.py:247\u001b[0m, in \u001b[0;36m_lazy_init\u001b[0;34m()\u001b[0m\n\u001b[1;32m    <a href='file:///home/rross/.venv/ml/lib/python3.10/site-packages/torch/cuda/__init__.py?line=244'>245</a>\u001b[0m \u001b[39mif\u001b[39;00m \u001b[39m'\u001b[39m\u001b[39mCUDA_MODULE_LOADING\u001b[39m\u001b[39m'\u001b[39m \u001b[39mnot\u001b[39;00m \u001b[39min\u001b[39;00m os\u001b[39m.\u001b[39menviron:\n\u001b[1;32m    <a href='file:///home/rross/.venv/ml/lib/python3.10/site-packages/torch/cuda/__init__.py?line=245'>246</a>\u001b[0m     os\u001b[39m.\u001b[39menviron[\u001b[39m'\u001b[39m\u001b[39mCUDA_MODULE_LOADING\u001b[39m\u001b[39m'\u001b[39m] \u001b[39m=\u001b[39m \u001b[39m'\u001b[39m\u001b[39mLAZY\u001b[39m\u001b[39m'\u001b[39m\n\u001b[0;32m--> <a href='file:///home/rross/.venv/ml/lib/python3.10/site-packages/torch/cuda/__init__.py?line=246'>247</a>\u001b[0m torch\u001b[39m.\u001b[39;49m_C\u001b[39m.\u001b[39;49m_cuda_init()\n\u001b[1;32m    <a href='file:///home/rross/.venv/ml/lib/python3.10/site-packages/torch/cuda/__init__.py?line=247'>248</a>\u001b[0m \u001b[39m# Some of the queued calls may reentrantly call _lazy_init();\u001b[39;00m\n\u001b[1;32m    <a href='file:///home/rross/.venv/ml/lib/python3.10/site-packages/torch/cuda/__init__.py?line=248'>249</a>\u001b[0m \u001b[39m# we need to just return without initializing in that case.\u001b[39;00m\n\u001b[1;32m    <a href='file:///home/rross/.venv/ml/lib/python3.10/site-packages/torch/cuda/__init__.py?line=249'>250</a>\u001b[0m \u001b[39m# However, we must not let any *other* threads in!\u001b[39;00m\n\u001b[1;32m    <a href='file:///home/rross/.venv/ml/lib/python3.10/site-packages/torch/cuda/__init__.py?line=250'>251</a>\u001b[0m _tls\u001b[39m.\u001b[39mis_initializing \u001b[39m=\u001b[39m \u001b[39mTrue\u001b[39;00m\n",
      "\u001b[0;31mRuntimeError\u001b[0m: CUDA unknown error - this may be due to an incorrectly set up environment, e.g. changing env variable CUDA_VISIBLE_DEVICES after program start. Setting the available devices to be zero."
     ]
    }
   ],
   "source": [
    "# from torch.utils.data import DataLoader\n",
    "from dgl.dataloading import DataLoader\n",
    "\n",
    "device = \"cpu\"\n",
    "if torch.cuda.is_available():\n",
    "    device = \"cuda\"\n",
    "batch_size = len(g.ndata[\"train_mask\"])\n",
    "train_idx = torch.tensor([i for i, x in enumerate(g.ndata[\"train_mask\"]) if x > 0]).to(\n",
    "    device\n",
    ")\n",
    "val_idx = torch.tensor([i for i, x in enumerate(g.ndata[\"val_mask\"]) if x > 0]).to(\n",
    "    device\n",
    ")\n",
    "test_idx = torch.tensor([i for i, x in enumerate(g.ndata[\"test_mask\"]) if x > 0]).to(\n",
    "    device\n",
    ")\n",
    "\n",
    "g = g.to(device)\n",
    "sampler = dgl.dataloading.MultiLayerFullNeighborSampler(2)\n",
    "dataloader = DataLoader(g, train_idx, sampler, batch_size=batch_size)\n",
    "val_set = DataLoader(g, val_idx, sampler, batch_size=len(val_idx))\n",
    "test_set = DataLoader(g, test_idx, sampler, batch_size=len(test_idx))\n"
   ]
  },
  {
   "cell_type": "code",
   "execution_count": null,
   "metadata": {},
   "outputs": [
    {
     "name": "stderr",
     "output_type": "stream",
     "text": [
      "GPU available: True (cuda), used: True\n",
      "TPU available: False, using: 0 TPU cores\n",
      "IPU available: False, using: 0 IPUs\n",
      "HPU available: False, using: 0 HPUs\n",
      "You are using a CUDA device ('NVIDIA GeForce RTX 3060') that has Tensor Cores. To properly utilize them, you should set `torch.set_float32_matmul_precision('medium' | 'high')` which will trade-off precision for performance. For more details, read https://pytorch.org/docs/stable/generated/torch.set_float32_matmul_precision.html#torch.set_float32_matmul_precision\n",
      "LOCAL_RANK: 0 - CUDA_VISIBLE_DEVICES: [0]\n",
      "\n",
      "  | Name  | Type            | Params\n",
      "------------------------------------------\n",
      "0 | f1    | BinaryF1Score   | 0     \n",
      "1 | conv0 | HeteroGraphConv | 3.1 K \n",
      "2 | conv1 | HeteroGraphConv | 198   \n",
      "------------------------------------------\n",
      "3.3 K     Trainable params\n",
      "0         Non-trainable params\n",
      "3.3 K     Total params\n",
      "0.013     Total estimated model params size (MB)\n"
     ]
    },
    {
     "name": "stdout",
     "output_type": "stream",
     "text": [
      "Sanity Checking DataLoader 0:   0%|          | 0/1 [00:00<?, ?it/s]"
     ]
    },
    {
     "name": "stderr",
     "output_type": "stream",
     "text": [
      "/home/rross/.venv/ml/lib/python3.10/site-packages/pytorch_lightning/trainer/connectors/data_connector.py:430: PossibleUserWarning: The dataloader, val_dataloader, does not have many workers which may be a bottleneck. Consider increasing the value of the `num_workers` argument` (try 16 which is the number of cpus on this machine) in the `DataLoader` init to improve performance.\n",
      "  rank_zero_warn(\n",
      "/home/rross/.venv/ml/lib/python3.10/site-packages/pytorch_lightning/utilities/data.py:120: UserWarning: Your `IterableDataset` has `__len__` defined. In combination with multi-process data loading (when num_workers > 1), `__len__` could be inaccurate if each worker is not configured independently to avoid having duplicate data.\n",
      "  rank_zero_warn(\n"
     ]
    },
    {
     "name": "stdout",
     "output_type": "stream",
     "text": [
      "                                                                           "
     ]
    },
    {
     "name": "stderr",
     "output_type": "stream",
     "text": [
      "/home/rross/.venv/ml/lib/python3.10/site-packages/dgl/backend/pytorch/tensor.py:445: UserWarning: TypedStorage is deprecated. It will be removed in the future and UntypedStorage will be the only storage class. This should only matter to you if you are using storages directly.  To access UntypedStorage directly, use tensor.untyped_storage() instead of tensor.storage()\n",
      "  assert input.numel() == input.storage().size(), (\n",
      "/home/rross/.venv/ml/lib/python3.10/site-packages/pytorch_lightning/trainer/connectors/data_connector.py:430: PossibleUserWarning: The dataloader, train_dataloader, does not have many workers which may be a bottleneck. Consider increasing the value of the `num_workers` argument` (try 16 which is the number of cpus on this machine) in the `DataLoader` init to improve performance.\n",
      "  rank_zero_warn(\n"
     ]
    },
    {
     "name": "stdout",
     "output_type": "stream",
     "text": [
      "Epoch 4999: 100%|██████████| 1/1 [00:00<00:00, 14.03it/s, v_num=f933, loss_step=0.230, acc_step=0.906, val_loss=0.240, val_acc=0.900, val_f1=0.592, loss_epoch=0.230, acc_epoch=0.906]"
     ]
    },
    {
     "name": "stderr",
     "output_type": "stream",
     "text": [
      "`Trainer.fit` stopped: `max_epochs=5000` reached.\n"
     ]
    },
    {
     "name": "stdout",
     "output_type": "stream",
     "text": [
      "Epoch 4999: 100%|██████████| 1/1 [00:00<00:00, 13.38it/s, v_num=f933, loss_step=0.230, acc_step=0.906, val_loss=0.240, val_acc=0.900, val_f1=0.592, loss_epoch=0.230, acc_epoch=0.906]\n"
     ]
    },
    {
     "name": "stderr",
     "output_type": "stream",
     "text": [
      "You are using a CUDA device ('NVIDIA GeForce RTX 3060') that has Tensor Cores. To properly utilize them, you should set `torch.set_float32_matmul_precision('medium' | 'high')` which will trade-off precision for performance. For more details, read https://pytorch.org/docs/stable/generated/torch.set_float32_matmul_precision.html#torch.set_float32_matmul_precision\n",
      "LOCAL_RANK: 0 - CUDA_VISIBLE_DEVICES: [0]\n",
      "/home/rross/.venv/ml/lib/python3.10/site-packages/pytorch_lightning/trainer/connectors/data_connector.py:430: PossibleUserWarning: The dataloader, test_dataloader, does not have many workers which may be a bottleneck. Consider increasing the value of the `num_workers` argument` (try 16 which is the number of cpus on this machine) in the `DataLoader` init to improve performance.\n",
      "  rank_zero_warn(\n"
     ]
    },
    {
     "name": "stdout",
     "output_type": "stream",
     "text": [
      "Testing DataLoader 0: 100%|██████████| 1/1 [00:00<00:00, 73.15it/s]\n",
      "────────────────────────────────────────────────────────────────────────────────────────────────────────────────────────\n",
      "       Test metric             DataLoader 0\n",
      "────────────────────────────────────────────────────────────────────────────────────────────────────────────────────────\n",
      "           f1               0.6117441058158875\n",
      "        test_acc            0.9036118388175964\n",
      "        test_loss           0.23913544416427612\n",
      "────────────────────────────────────────────────────────────────────────────────────────────────────────────────────────\n"
     ]
    },
    {
     "data": {
      "text/plain": [
       "[{'test_loss': 0.23913544416427612,\n",
       "  'test_acc': 0.9036118388175964,\n",
       "  'f1': 0.6117441058158875}]"
      ]
     },
     "execution_count": 5,
     "metadata": {},
     "output_type": "execute_result"
    }
   ],
   "source": [
    "from pytorch_lightning.loggers import MLFlowLogger\n",
    "\n",
    "mlf_logger = MLFlowLogger()\n",
    "model = GCN(g, g.ndata[\"feature\"].shape[1], 16, dataset.num_classes, g.etypes)\n",
    "trainer = pl.Trainer(\n",
    "    max_epochs=5_000,\n",
    "    # accelerator=\"cpu\",\n",
    "    log_every_n_steps=1,\n",
    "    logger=mlf_logger\n",
    ")\n",
    "trainer.fit(model, dataloader,val_dataloaders=val_set)\n",
    "trainer.test(model, dataloaders=test_set)\n"
   ]
  },
  {
   "cell_type": "code",
   "execution_count": null,
   "metadata": {},
   "outputs": [
    {
     "name": "stderr",
     "output_type": "stream",
     "text": [
      "/home/rross/.venv/ml/lib/python3.10/site-packages/dgl/backend/pytorch/tensor.py:445: UserWarning: TypedStorage is deprecated. It will be removed in the future and UntypedStorage will be the only storage class. This should only matter to you if you are using storages directly.  To access UntypedStorage directly, use tensor.untyped_storage() instead of tensor.storage()\n",
      "  assert input.numel() == input.storage().size(), (\n"
     ]
    },
    {
     "data": {
      "text/plain": [
       "<sklearn.metrics._plot.confusion_matrix.ConfusionMatrixDisplay at 0x7fabfbdbead0>"
      ]
     },
     "execution_count": 8,
     "metadata": {},
     "output_type": "execute_result"
    },
    {
     "data": {
      "image/png": "[encoded data removed]",
      "text/plain": [
       "<Figure size 640x480 with 2 Axes>"
      ]
     },
     "metadata": {},
     "output_type": "display_data"
    }
   ],
   "source": [
    "from sklearn.metrics import ConfusionMatrixDisplay, confusion_matrix\n",
    "\n",
    "features = {\"review\": g.ndata[\"feature\"].to(device)}\n",
    "model = model.to(device)\n",
    "logits = model(g.to(device), features)[\"review\"]\n",
    "test_mask = g.ndata[\"test_mask\"].cpu().to(bool)\n",
    "labels = g.ndata[\"label\"][test_mask].cpu()\n",
    "pred = logits.argmax(1)[test_mask].cpu()\n",
    "\n",
    "cm = confusion_matrix(labels, pred)\n",
    "cm = ConfusionMatrixDisplay(cm)\n",
    "cm.plot(cmap=\"Blues\")\n",
    "\n"
   ]
  },
  {
   "cell_type": "code",
   "execution_count": null,
   "metadata": {},
   "outputs": [],
   "source": []
  }
 ],
 "metadata": {
  "interpreter": {
   "hash": "adc93820af594536f6b5955ab92df2c64c8b670a927a628d84e8130e0bffc07a"
  },
  "kernelspec": {
   "display_name": "Python 3.10.6 ('ml')",
   "language": "python",
   "name": "python3"
  },
  "language_info": {
   "codemirror_mode": {
    "name": "ipython",
    "version": 3
   },
   "file_extension": ".py",
   "mimetype": "text/x-python",
   "name": "python",
   "nbconvert_exporter": "python",
   "pygments_lexer": "ipython3",
   "version": "3.10.6"
  },
  "orig_nbformat": 4
 },
 "nbformat": 4,
 "nbformat_minor": 2
}
