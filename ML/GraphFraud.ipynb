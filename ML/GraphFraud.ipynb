{
 "cells": [
  {
   "cell_type": "code",
   "execution_count": 37,
   "metadata": {},
   "outputs": [
    {
     "name": "stdout",
     "output_type": "stream",
     "text": [
      "Done loading data from cached files.\n",
      "['net_rsr', 'net_rtr', 'net_rur']\n",
      "['review']\n",
      "{'val_mask': tensor([1, 0, 0,  ..., 0, 0, 0], dtype=torch.uint8), 'test_mask': tensor([0, 0, 0,  ..., 1, 0, 0], dtype=torch.uint8), 'train_mask': tensor([0, 1, 1,  ..., 0, 1, 1], dtype=torch.uint8), 'label': tensor([0, 0, 0,  ..., 0, 0, 0]), 'feature': tensor([[0.0224, 0.0705, 0.4287,  ..., 0.5920, 0.1393, 0.4975],\n",
      "        [0.0249, 1.0000, 1.0000,  ..., 0.5920, 0.1393, 0.4975],\n",
      "        [0.0062, 0.0705, 0.4287,  ..., 0.5920, 0.1393, 0.4975],\n",
      "        ...,\n",
      "        [0.0091, 0.3500, 0.4287,  ..., 0.4826, 0.8010, 0.1642],\n",
      "        [0.0062, 0.0705, 1.0000,  ..., 0.4428, 0.4478, 0.5871],\n",
      "        [0.0032, 0.3500, 0.4287,  ..., 0.4428, 0.4478, 0.5871]])}\n",
      "dict_keys(['val_mask', 'test_mask', 'train_mask', 'label', 'feature'])\n",
      "\n",
      "tensor([[0.0224, 0.0705, 0.4287,  ..., 0.5920, 0.1393, 0.4975],\n",
      "        [0.0249, 1.0000, 1.0000,  ..., 0.5920, 0.1393, 0.4975],\n",
      "        [0.0062, 0.0705, 0.4287,  ..., 0.5920, 0.1393, 0.4975],\n",
      "        ...,\n",
      "        [0.0091, 0.3500, 0.4287,  ..., 0.4826, 0.8010, 0.1642],\n",
      "        [0.0062, 0.0705, 1.0000,  ..., 0.4428, 0.4478, 0.5871],\n",
      "        [0.0032, 0.3500, 0.4287,  ..., 0.4428, 0.4478, 0.5871]])\n"
     ]
    }
   ],
   "source": [
    "import dgl\n",
    "from dgl.data import FraudDataset\n",
    "\n",
    "dataset = FraudDataset(\"yelp\")\n",
    "g = dataset[0]\n",
    "print(g.etypes)\n",
    "print(g.ntypes)\n",
    "print(g.ndata)\n",
    "print(g.ndata.keys())\n",
    "print()\n",
    "print(g.ndata[\"feature\"])\n"
   ]
  },
  {
   "cell_type": "code",
   "execution_count": 38,
   "metadata": {},
   "outputs": [
    {
     "name": "stdout",
     "output_type": "stream",
     "text": [
      "{0: 27441, 1: 4726} tensor(0.8531)\n",
      "{0: 3944, 1: 651} tensor(0.8583)\n",
      "{0: 7892, 1: 1300} tensor(0.8586)\n"
     ]
    }
   ],
   "source": [
    "mask = g.ndata[\"train_mask\"].to(bool)\n",
    "l = {0: 0, 1: 0}\n",
    "\n",
    "for x in g.ndata[\"label\"][mask].numpy():\n",
    "    l[x] += 1\n",
    "print(l, l[0] / (mask.sum()))\n",
    "\n",
    "mask = g.ndata[\"val_mask\"].to(bool)\n",
    "l = {0: 0, 1: 0}\n",
    "\n",
    "for x in g.ndata[\"label\"][mask].numpy():\n",
    "    l[x] += 1\n",
    "print(l, l[0] / (mask.sum()))\n",
    "\n",
    "mask = g.ndata[\"test_mask\"].to(bool)\n",
    "l = {0: 0, 1: 0}\n",
    "\n",
    "for x in g.ndata[\"label\"][mask].numpy():\n",
    "    l[x] += 1\n",
    "print(l, l[0] / (mask.sum()))\n"
   ]
  },
  {
   "cell_type": "code",
   "execution_count": 47,
   "metadata": {},
   "outputs": [],
   "source": [
    "import torch\n",
    "from torch import nn\n",
    "from torch.nn import functional as F\n",
    "import pytorch_lightning as pl\n",
    "import dgl.nn.pytorch as gnn\n",
    "\n",
    "\n",
    "# class GCN(pl.LightningModule):\n",
    "class GCN(nn.Module):\n",
    "    def __init__(self, in_feats, h_feats, num_classes):\n",
    "        super().__init__()\n",
    "        self.conv1 = gnn.HeteroGraphConv(\n",
    "            {\n",
    "                \"net_rsr\": gnn.SAGEConv(in_feats, h_feats,'pool'),\n",
    "                \"net_rtr\": gnn.SAGEConv(in_feats, h_feats,'pool'),\n",
    "                \"net_rur\": gnn.SAGEConv(in_feats, h_feats,'pool'),\n",
    "            },\n",
    "            aggregate=\"sum\",\n",
    "        )\n",
    "        self.conv2 = gnn.HeteroGraphConv(\n",
    "            {\n",
    "                \"net_rsr\": gnn.SAGEConv(h_feats, num_classes,'pool'),\n",
    "                \"net_rtr\": gnn.SAGEConv(h_feats, num_classes,'pool'),\n",
    "                \"net_rur\": gnn.SAGEConv(h_feats, num_classes,'pool'),\n",
    "            },\n",
    "            aggregate=\"sum\",\n",
    "        )\n",
    "\n",
    "        self.conv0 = gnn.HeteroGraphConv(\n",
    "            {\n",
    "                \"net_rsr\": gnn.GraphConv(in_feats, num_classes),\n",
    "                \"net_rtr\": gnn.GraphConv(in_feats, num_classes),\n",
    "                \"net_rur\": gnn.GraphConv(in_feats, num_classes),\n",
    "            },\n",
    "            aggregate=\"sum\",\n",
    "        )\n",
    "\n",
    "    def forward(self, g, in_feat):\n",
    "        h = self.conv1(g, in_feat)\n",
    "        h = F.relu(h['review'])\n",
    "        h = self.conv2(g, {'review':h})\n",
    "        # h  = self.conv0(g,in_feat)\n",
    "        return h\n"
   ]
  },
  {
   "cell_type": "code",
   "execution_count": 50,
   "metadata": {},
   "outputs": [
    {
     "name": "stderr",
     "output_type": "stream",
     "text": [
      "/Users/robrossmiller/.venv/ml/lib/python3.9/site-packages/dgl/backend/pytorch/tensor.py:445: UserWarning: TypedStorage is deprecated. It will be removed in the future and UntypedStorage will be the only storage class. This should only matter to you if you are using storages directly.  To access UntypedStorage directly, use tensor.untyped_storage() instead of tensor.storage()\n",
      "  assert input.numel() == input.storage().size(), (\n"
     ]
    },
    {
     "name": "stdout",
     "output_type": "stream",
     "text": [
      "In epoch 0, acc: 0.562 f1: 0.349, val acc: 0.574 (best 0.574), test acc: 0.565 (best 0.565)\n",
      "In epoch 5, acc: 0.853 f1: 0.000, val acc: 0.858 (best 0.858), test acc: 0.858 (best 0.859)\n",
      "In epoch 10, acc: 0.852 f1: 0.047, val acc: 0.858 (best 0.858), test acc: 0.859 (best 0.859)\n",
      "In epoch 15, acc: 0.853 f1: 0.003, val acc: 0.858 (best 0.859), test acc: 0.858 (best 0.858)\n",
      "In epoch 20, acc: 0.814 f1: 0.390, val acc: 0.813 (best 0.859), test acc: 0.818 (best 0.858)\n",
      "In epoch 25, acc: 0.854 f1: 0.058, val acc: 0.857 (best 0.859), test acc: 0.859 (best 0.858)\n",
      "In epoch 30, acc: 0.854 f1: 0.199, val acc: 0.855 (best 0.859), test acc: 0.862 (best 0.858)\n",
      "In epoch 35, acc: 0.855 f1: 0.222, val acc: 0.854 (best 0.859), test acc: 0.862 (best 0.858)\n",
      "In epoch 40, acc: 0.855 f1: 0.089, val acc: 0.857 (best 0.859), test acc: 0.862 (best 0.858)\n",
      "In epoch 45, acc: 0.856 f1: 0.162, val acc: 0.857 (best 0.859), test acc: 0.863 (best 0.858)\n",
      "In epoch 50, acc: 0.857 f1: 0.150, val acc: 0.857 (best 0.859), test acc: 0.863 (best 0.858)\n",
      "In epoch 55, acc: 0.856 f1: 0.139, val acc: 0.857 (best 0.859), test acc: 0.863 (best 0.858)\n",
      "In epoch 60, acc: 0.859 f1: 0.196, val acc: 0.856 (best 0.859), test acc: 0.865 (best 0.858)\n",
      "In epoch 65, acc: 0.858 f1: 0.164, val acc: 0.860 (best 0.860), test acc: 0.865 (best 0.865)\n",
      "In epoch 70, acc: 0.860 f1: 0.185, val acc: 0.859 (best 0.860), test acc: 0.865 (best 0.865)\n",
      "In epoch 75, acc: 0.860 f1: 0.196, val acc: 0.860 (best 0.860), test acc: 0.865 (best 0.865)\n",
      "In epoch 80, acc: 0.861 f1: 0.198, val acc: 0.860 (best 0.861), test acc: 0.865 (best 0.866)\n",
      "In epoch 85, acc: 0.862 f1: 0.211, val acc: 0.861 (best 0.861), test acc: 0.864 (best 0.864)\n",
      "In epoch 90, acc: 0.862 f1: 0.216, val acc: 0.861 (best 0.861), test acc: 0.865 (best 0.865)\n",
      "In epoch 95, acc: 0.863 f1: 0.231, val acc: 0.861 (best 0.861), test acc: 0.866 (best 0.866)\n"
     ]
    }
   ],
   "source": [
    "from torchmetrics import F1Score\n",
    "\n",
    "\n",
    "def train(g, model):\n",
    "    optimizer = torch.optim.Adam(model.parameters(), lr=0.01)\n",
    "    best_val_acc = 0\n",
    "    best_test_acc = 0\n",
    "    f1 = F1Score(\"binary\")\n",
    "\n",
    "    features = {\"review\": g.ndata[\"feature\"]}\n",
    "    labels = g.ndata[\"label\"]\n",
    "    train_mask = g.ndata[\"train_mask\"].to(bool)\n",
    "    val_mask = g.ndata[\"val_mask\"].to(bool)\n",
    "    test_mask = g.ndata[\"test_mask\"].to(bool)\n",
    "    for e in range(10_000):\n",
    "        # Forward\n",
    "        logits = model(g, features)[\"review\"]\n",
    "\n",
    "        # Compute prediction\n",
    "        pred = logits.argmax(1)\n",
    "\n",
    "        # Compute loss\n",
    "        # Note that you should only compute the losses of the nodes in the training set.\n",
    "        loss = F.cross_entropy(logits[train_mask], labels[train_mask])\n",
    "\n",
    "        # Compute accuracy on training/validation/test\n",
    "        train_acc = (pred[train_mask] == labels[train_mask]).float().mean()\n",
    "        val_acc = (pred[val_mask] == labels[val_mask]).float().mean()\n",
    "        test_acc = (pred[test_mask] == labels[test_mask]).float().mean()\n",
    "        # Save the best validation accuracy and the corresponding test accuracy.\n",
    "        if best_val_acc < val_acc:\n",
    "            best_val_acc = val_acc\n",
    "            best_test_acc = test_acc\n",
    "\n",
    "        # Backward\n",
    "        optimizer.zero_grad()\n",
    "        loss.backward()\n",
    "        optimizer.step()\n",
    "\n",
    "        if e % 5 == 0:\n",
    "            # print(\n",
    "            #     \"In epoch {}, acc: {:.3f} loss: {:.3f}, val acc: {:.3f} (best {:.3f}), test acc: {:.3f} (best {:.3f})\".format(\n",
    "            #         e, train_acc, loss, val_acc, best_val_acc, test_acc, best_test_acc\n",
    "            #     )\n",
    "            # )\n",
    "            print(\n",
    "                \"In epoch {}, acc: {:.3f} f1: {:.3f}, val acc: {:.3f} (best {:.3f}), test acc: {:.3f} (best {:.3f})\".format(\n",
    "                    e,\n",
    "                    train_acc,\n",
    "                    f1(pred[test_mask], labels[test_mask]),\n",
    "                    val_acc,\n",
    "                    best_val_acc,\n",
    "                    test_acc,\n",
    "                    best_test_acc,\n",
    "                )\n",
    "            )\n",
    "\n",
    "\n",
    "gpu = False\n",
    "if gpu:\n",
    "    model = GCN(\n",
    "        g.ndata[\"feature\"].shape[1],\n",
    "        16,\n",
    "        dataset.num_classes,\n",
    "    )\n",
    "else:\n",
    "    g = g.to(\"cuda\")\n",
    "    model = GCN(g.ndata[\"feat\"].shape[1], 16, dataset.num_classes).to(\"cuda\")\n",
    "train(g, model)\n"
   ]
  },
  {
   "cell_type": "code",
   "execution_count": 51,
   "metadata": {},
   "outputs": [
    {
     "data": {
      "text/plain": [
       "<sklearn.metrics._plot.confusion_matrix.ConfusionMatrixDisplay at 0x2af3fe5b0>"
      ]
     },
     "execution_count": 51,
     "metadata": {},
     "output_type": "execute_result"
    },
    {
     "data": {
      "image/png": "[encoded data removed]",
      "text/plain": [
       "<Figure size 640x480 with 2 Axes>"
      ]
     },
     "metadata": {},
     "output_type": "display_data"
    }
   ],
   "source": [
    "from sklearn.metrics import ConfusionMatrixDisplay, confusion_matrix\n",
    "\n",
    "features = {\"review\": g.ndata[\"feature\"]}\n",
    "logits = model(g, features)[\"review\"]\n",
    "test_mask = g.ndata[\"test_mask\"].to(bool)\n",
    "labels = g.ndata[\"label\"][test_mask]\n",
    "pred = logits.argmax(1)[test_mask]\n",
    "\n",
    "cm = confusion_matrix(labels, pred)\n",
    "cm = ConfusionMatrixDisplay(cm)\n",
    "cm.plot(cmap=\"Blues\")\n",
    "\n"
   ]
  },
  {
   "cell_type": "code",
   "execution_count": null,
   "metadata": {},
   "outputs": [],
   "source": []
  },
  {
   "cell_type": "code",
   "execution_count": null,
   "metadata": {},
   "outputs": [],
   "source": [
    "import networkx as nx\n",
    "\n",
    "g = nx.Graph()\n",
    "e = list(zip([0, 1, 2, 3, 2, 5], [1, 2, 3, 4, 0, 3]))\n",
    "\n",
    "etype = [0, 1, 2, 0, 1, 2]\n",
    "print(e)\n",
    "g.add_edges_from(e)\n",
    "pos = nx.spring_layout(g)\n",
    "nx.draw_networkx_labels(g, pos)\n",
    "nx.draw_networkx_edge_labels(g, pos, {k: v for k, v in zip(e, etype)})\n",
    "nx.draw(g, pos)\n"
   ]
  },
  {
   "cell_type": "code",
   "execution_count": null,
   "metadata": {},
   "outputs": [],
   "source": [
    "import dgl\n",
    "import numpy as np\n",
    "import torch as th\n",
    "from dgl.nn import RelGraphConv\n",
    "g = dgl.graph(([0,1,2,3,2,5], [1,2,3,4,0,3]))\n",
    "feat = th.ones(6, 10)\n",
    "conv = RelGraphConv(10, 2, 3, regularizer='basis', num_bases=2)\n",
    "etype = th.tensor([0,1,2,0,1,2])\n",
    "res = conv(g, feat, etype)\n",
    "res"
   ]
  }
 ],
 "metadata": {
  "kernelspec": {
   "display_name": "ml",
   "language": "python",
   "name": "python3"
  },
  "language_info": {
   "codemirror_mode": {
    "name": "ipython",
    "version": 3
   },
   "file_extension": ".py",
   "mimetype": "text/x-python",
   "name": "python",
   "nbconvert_exporter": "python",
   "pygments_lexer": "ipython3",
   "version": "3.9.6"
  },
  "orig_nbformat": 4
 },
 "nbformat": 4,
 "nbformat_minor": 2
}
