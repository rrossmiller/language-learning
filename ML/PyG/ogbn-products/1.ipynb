{
 "cells": [
  {
   "cell_type": "code",
   "execution_count": 1,
   "metadata": {},
   "outputs": [
    {
     "name": "stdout",
     "output_type": "stream",
     "text": [
      "num tasks                                                                1\n",
      "num classes                                                             47\n",
      "eval metric                                                            acc\n",
      "task type                                        multiclass classification\n",
      "download_name                                                     products\n",
      "version                                                                  1\n",
      "url                      http://snap.stanford.edu/ogb/data/nodeproppred...\n",
      "add_inverse_edge                                                      True\n",
      "has_node_attr                                                         True\n",
      "has_edge_attr                                                        False\n",
      "split                                                        sales_ranking\n",
      "additional node files                                                 None\n",
      "additional edge files                                                 None\n",
      "is hetero                                                            False\n",
      "binary                                                               False\n",
      "Name: ogbn-products, dtype: object\n",
      "100\n",
      "\n",
      "Data(num_nodes=2449029, edge_index=[2, 123718280], x=[2449029, 100], y=[2449029, 1])\n"
     ]
    },
    {
     "data": {
      "text/plain": [
       "['train: 8.03%', 'valid: 1.61%', 'test: 90.37%']"
      ]
     },
     "execution_count": 1,
     "metadata": {},
     "output_type": "execute_result"
    }
   ],
   "source": [
    "import torch\n",
    "from ogb.nodeproppred import PygNodePropPredDataset\n",
    "from tqdm import trange\n",
    "import pandas as pd\n",
    "from matplotlib import pyplot as plt\n",
    "import seaborn as sns\n",
    "\n",
    "dataset = PygNodePropPredDataset(name=\"ogbn-products\", root=\"dataset/\")\n",
    "print(dataset.meta_info)\n",
    "print(dataset.num_node_features)\n",
    "print()\n",
    "print(dataset._data)\n",
    "splits = dataset.get_idx_split()\n",
    "[f\"{k}: {len(splits[k])/dataset.num_nodes*100:.2f}%\" for k in splits.keys()]"
   ]
  },
  {
   "cell_type": "code",
   "execution_count": 2,
   "metadata": {},
   "outputs": [
    {
     "data": {
      "image/png": "[encoded data removed]",
      "text/plain": [
       "<Figure size 640x480 with 1 Axes>"
      ]
     },
     "metadata": {},
     "output_type": "display_data"
    }
   ],
   "source": [
    "from collections import Counter\n",
    "\n",
    "c = Counter(dataset.y.flatten().numpy())\n",
    "sns.barplot(x=c.keys(), y=c.values())\n",
    "plt.xticks(rotation=90)\n",
    "plt.show()"
   ]
  },
  {
   "cell_type": "code",
   "execution_count": 3,
   "metadata": {},
   "outputs": [
    {
     "data": {
      "text/plain": [
       "'mps'"
      ]
     },
     "execution_count": 3,
     "metadata": {},
     "output_type": "execute_result"
    }
   ],
   "source": [
    "import torch.nn as nn\n",
    "from torch.nn import functional as F\n",
    "import torch_geometric.nn as gnn\n",
    "\n",
    "\n",
    "class GCN(nn.Module):\n",
    "    def __init__(self) -> None:\n",
    "        super().__init__()\n",
    "        nh = 64\n",
    "        self.conv1 = gnn.GCNConv(dataset.num_node_features, 16)\n",
    "        self.conv2 = gnn.GCNConv(16, dataset.num_classes)\n",
    "\n",
    "        # better but slower to train\n",
    "        self.gat1 = gnn.GAT(dataset.num_node_features, 72, 2, nh)\n",
    "        self.gat2 = gnn.GAT(nh, 48, 1, dataset.num_classes)\n",
    "\n",
    "    def forward(self, data):\n",
    "        x, edge_index = data.x.float(), data.edge_index\n",
    "\n",
    "        x = self.conv1(x, edge_index)\n",
    "        x = F.relu(x)\n",
    "        x = F.dropout(x, training=self.training)\n",
    "        x = self.conv2(x, edge_index)\n",
    "        # x = self.gat1.forward(x, edge_index)\n",
    "        # x = self.gat2.forward(x, edge_index)\n",
    "        return F.log_softmax(x, dim=1)\n",
    "\n",
    "\n",
    "device = \"mps\" if torch.backends.mps.is_available() else \"cpu\"\n",
    "# device = \"cuda\"\n",
    "\n",
    "device"
   ]
  },
  {
   "cell_type": "code",
   "execution_count": 4,
   "metadata": {},
   "outputs": [
    {
     "name": "stderr",
     "output_type": "stream",
     "text": [
      "  0%|          | 0/100 [00:00<?, ?it/s]"
     ]
    }
   ],
   "source": [
    "device = torch.device(\"cuda\" if torch.cuda.is_available() else \"cpu\")\n",
    "model = GCN().to(device)\n",
    "data = dataset.to(device)\n",
    "optimizer = torch.optim.Adam(model.parameters(), lr=0.01, weight_decay=5e-4)\n",
    "\n",
    "results = {\"loss\": [], \"val_loss\": [], \"acc\": [], \"val_acc\": []}\n",
    "tr = trange(100)\n",
    "for i in tr:\n",
    "    model.train()\n",
    "    optimizer.zero_grad()\n",
    "    out = model(dataset)\n",
    "    loss = F.nll_loss(out[splits[\"train\"]], dataset.y[splits[\"train\"]].flatten())\n",
    "    correct = (\n",
    "        out.argmax(-1)[splits[\"train\"]] == dataset.y[splits[\"train\"]].flatten()\n",
    "    ).sum()\n",
    "    acc = int(correct) / len(splits[\"train\"])\n",
    "    results[\"acc\"].append(acc)\n",
    "    results[\"loss\"].append(loss.item())\n",
    "    loss.backward()\n",
    "    optimizer.step()\n",
    "\n",
    "    model.eval()\n",
    "    vout = model(dataset)\n",
    "    vloss = F.nll_loss(vout[splits[\"valid\"]], dataset.y[splits[\"valid\"]].flatten())\n",
    "    correct = (\n",
    "        vout.argmax(-1)[splits[\"valid\"]] == dataset.y[splits[\"valid\"]].flatten()\n",
    "    ).sum()\n",
    "    vacc = int(correct) / len(splits[\"valid\"])\n",
    "    results[\"val_acc\"].append(vacc)\n",
    "    results[\"val_loss\"].append(vloss.item())\n",
    "\n",
    "    tr.set_postfix(\n",
    "        {\"loss\": loss.item(), \"vloss\": vloss.item(), \"acc\": acc, \"vacc\": vacc}\n",
    "    )"
   ]
  },
  {
   "cell_type": "code",
   "execution_count": null,
   "metadata": {},
   "outputs": [],
   "source": [
    "df = pd.DataFrame(results)\n",
    "df[[\"loss\", \"val_loss\"]].plot()\n",
    "plt.legend()\n",
    "plt.show()"
   ]
  },
  {
   "cell_type": "code",
   "execution_count": null,
   "metadata": {},
   "outputs": [],
   "source": [
    "df[[\"acc\", \"val_acc\"]].plot()\n",
    "plt.legend()\n",
    "plt.show()"
   ]
  },
  {
   "cell_type": "code",
   "execution_count": null,
   "metadata": {},
   "outputs": [],
   "source": [
    "# test\n",
    "model.eval()\n",
    "out = model(dataset)\n",
    "# loss = F.nll_loss(out[splits[\"test\"]], dataset.y[splits[\"test\"]].flatten())\n",
    "correct = (out.argmax(-1)[splits[\"test\"]] == dataset.y[splits[\"test\"]].flatten()).sum()\n",
    "acc = int(correct) / len(splits[\"test\"])\n",
    "\n",
    "acc"
   ]
  },
  {
   "cell_type": "code",
   "execution_count": null,
   "metadata": {},
   "outputs": [],
   "source": [
    "from sklearn.metrics import confusion_matrix, ConfusionMatrixDisplay\n",
    "\n",
    "cm = confusion_matrix(\n",
    "    dataset.y[splits[\"test\"]].flatten(), out.argmax(-1)[splits[\"test\"]]\n",
    ")\n",
    "disp = ConfusionMatrixDisplay(cm)\n",
    "disp.plot(cmap=\"Blues\", include_values=False)\n",
    "plt.show()"
   ]
  },
  {
   "cell_type": "code",
   "execution_count": null,
   "metadata": {},
   "outputs": [],
   "source": []
  }
 ],
 "metadata": {
  "kernelspec": {
   "display_name": "ogb",
   "language": "python",
   "name": "python3"
  },
  "language_info": {
   "codemirror_mode": {
    "name": "ipython",
    "version": 3
   },
   "file_extension": ".py",
   "mimetype": "text/x-python",
   "name": "python",
   "nbconvert_exporter": "python",
   "pygments_lexer": "ipython3",
   "version": "3.11.6"
  }
 },
 "nbformat": 4,
 "nbformat_minor": 2
}
