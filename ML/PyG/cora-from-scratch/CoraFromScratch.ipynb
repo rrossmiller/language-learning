{
 "cells": [
  {
   "cell_type": "code",
   "execution_count": null,
   "metadata": {},
   "outputs": [],
   "source": [
    "import pandas as pd\n",
    "import os\n",
    "import torch\n",
    "import matplotlib.pyplot as plt\n",
    "\n",
    "if not os.path.exists(\"data/cora.cites\"):\n",
    "    os.system(\"wget https://linqs-data.soe.ucsc.edu/public/lbc/cora.tgz\")\n",
    "    os.system(\"tar -xvf cora.tgz\")\n",
    "device = \"mps\" if torch.backends.mps.is_available() else \"cpu\"\n",
    "print(f\"{device= }\")\n",
    "edges = pd.read_csv(\"data/cora.cites\", header=None, sep=\"\\t\")\n",
    "edges.columns = [\"src\", \"tgt\"]\n",
    "edges\n"
   ]
  },
  {
   "cell_type": "code",
   "execution_count": null,
   "metadata": {},
   "outputs": [],
   "source": [
    "from sklearn.preprocessing import LabelEncoder\n",
    "verts = pd.read_csv(\"data/cora.content\", header=None, sep=\"\\t\")\n",
    "cols = [\"id\"]\n",
    "cols.extend([f\"x{i}\" for i in range(len(verts.columns) - 2)])\n",
    "cols.append(\"label\")\n",
    "verts.columns = cols\n",
    "\n",
    "verts['label'].value_counts().plot.bar()\n",
    "le = LabelEncoder()\n",
    "labels = le.fit_transform(verts[\"label\"])\n",
    "verts['label'] = labels\n",
    "verts\n"
   ]
  },
  {
   "cell_type": "code",
   "execution_count": null,
   "metadata": {},
   "outputs": [],
   "source": [
    "# map id to node index\n",
    "idx_map = {i: idx for idx, i in enumerate(verts[\"id\"].unique())}\n",
    "idx_map[31336]"
   ]
  },
  {
   "cell_type": "code",
   "execution_count": null,
   "metadata": {},
   "outputs": [],
   "source": [
    "import numpy as np\n",
    "import torch\n",
    "from torch_geometric.data import Data\n",
    "from torch_geometric import transforms as T\n",
    "from torch_geometric.transforms import RandomNodeSplit, AddSelfLoops\n",
    "\n",
    "x = verts[[f\"x{i}\" for i in range(len(verts.columns) - 2)]]\n",
    "x = torch.from_numpy(x.to_numpy()).to(torch.float32)\n",
    "y = torch.from_numpy(verts[\"label\"].to_numpy()).to(torch.long)\n",
    "src = [idx_map[i] for i in edges[\"src\"]]\n",
    "tgt = [idx_map[i] for i in edges[\"tgt\"]]\n",
    "edge_idx = torch.tensor([src, tgt], dtype=torch.long)\n",
    "\n",
    "data = Data(x=x, edge_index=edge_idx, y=y)\n",
    "data"
   ]
  },
  {
   "cell_type": "code",
   "execution_count": null,
   "metadata": {},
   "outputs": [],
   "source": [
    "transform = T.Compose([AddSelfLoops(), RandomNodeSplit(num_test=0.2, num_val=0.1)])\n",
    "data = transform(data)\n",
    "data.validate(raise_on_error=True)\n",
    "print(data.keys)\n",
    "print(data[\"x\"])\n",
    "print(data.num_nodes)\n",
    "print(data.num_edges)\n",
    "print(\"isolated nodes:\", data.has_isolated_nodes())\n",
    "print(\"self loops:\", data.has_self_loops())\n",
    "data\n"
   ]
  },
  {
   "cell_type": "code",
   "execution_count": null,
   "metadata": {},
   "outputs": [],
   "source": [
    "import torch\n",
    "import torch.nn.functional as F\n",
    "import torch_geometric.nn as gnn\n",
    "\n",
    "\n",
    "class GCN(torch.nn.Module):\n",
    "    def __init__(self, in_feats, h_feats, outputs) -> None:\n",
    "        super().__init__()\n",
    "        self.c1 = gnn.GCNConv(in_feats, h_feats)\n",
    "        self.c2 = gnn.GCNConv(h_feats, outputs)\n",
    "        # self.gat = gnn.GAT(in_feats, 64, num_layers=2, out_channels=outputs)\n",
    "\n",
    "    def forward(self, data):\n",
    "        x, edge_idx = data.x, data.edge_index\n",
    "\n",
    "        h = self.c1(x, edge_idx)\n",
    "        h = F.relu(h)\n",
    "        h = F.dropout(h, training=self.training)\n",
    "        h = self.c2(h, edge_idx)\n",
    "        # h = self.gat(x, edge_idx)\n",
    "\n",
    "        return F.log_softmax(h, dim=1)\n"
   ]
  },
  {
   "cell_type": "code",
   "execution_count": null,
   "metadata": {},
   "outputs": [],
   "source": [
    "from tqdm import tqdm\n",
    "from torchmetrics import F1Score\n",
    "\n",
    "# device = \"cpu\" # if gat, must not be mps\n",
    "print(\"device:\", device)\n",
    "num_classes = len(data.y.unique())\n",
    "avg = None  # \"none\"\n",
    "\n",
    "metric = F1Score(\n",
    "    task=\"multiclass\",\n",
    "    num_classes=num_classes,\n",
    "    # average=avg,\n",
    ").to(device)\n",
    "\n",
    "model = GCN(data.num_edge_features, 16, num_classes).to(device)\n",
    "data.to(device)\n",
    "optimizer = torch.optim.Adam(model.parameters(), lr=0.01, weight_decay=5e-4)\n",
    "train_y = data.y[data.train_mask]\n",
    "val_y = data.y[data.val_mask]\n",
    "model.train()\n",
    "t = tqdm(range(500))\n",
    "for epoch in t:\n",
    "    optimizer.zero_grad()\n",
    "    pred = model(data)\n",
    "    loss = F.nll_loss(pred[data.train_mask], train_y)\n",
    "    loss.backward()\n",
    "    optimizer.step()\n",
    "    pred = pred.argmax(1)\n",
    "\n",
    "    correct = (pred[data.train_mask] == data.y[data.train_mask]).sum()\n",
    "    acc = int(correct) / int(data.train_mask.sum())\n",
    "    val_correct = (pred[data.val_mask] == data.y[data.val_mask]).sum()\n",
    "    val_acc = int(val_correct) / int(data.val_mask.sum())\n",
    "\n",
    "    f1 = metric(pred[data.train_mask], train_y)\n",
    "    val_f1 = metric(pred[data.val_mask], val_y)\n",
    "    if avg != \"none\":\n",
    "        t.set_description(\n",
    "            f\"acc: {acc:.4f} | val_acc: {val_acc:.4f} | f1: {f1:.4f} | val_f1: {val_f1:.4f}\"\n",
    "        )\n",
    "\n",
    "if avg == \"none\":\n",
    "    print(f\"acc: {acc:.4f} | val_acc: {val_acc:.4f} | f1: {f1} | val_f1: {val_f1}\")\n"
   ]
  },
  {
   "cell_type": "code",
   "execution_count": null,
   "metadata": {},
   "outputs": [],
   "source": [
    "model.eval()\n",
    "pred = model(data).argmax(dim=1)\n",
    "correct = (pred[data.test_mask] == data.y[data.test_mask]).sum()\n",
    "acc = int(correct) / int(data.test_mask.sum())\n",
    "print(f\"Accuracy: {acc:.4f}\")\n",
    "metric = F1Score(task=\"multiclass\", num_classes=num_classes,average=avg)\n",
    "target = data.y[data.test_mask].to(\"cpu\")\n",
    "\n",
    "f\"f1: {metric(pred[data.test_mask].to('cpu'), target)}\"\n"
   ]
  },
  {
   "cell_type": "code",
   "execution_count": null,
   "metadata": {},
   "outputs": [],
   "source": [
    "from sklearn.metrics import confusion_matrix, ConfusionMatrixDisplay\n",
    "cm = confusion_matrix(target,pred[data.test_mask].to('cpu'))\n",
    "disp=ConfusionMatrixDisplay(cm)\n",
    "disp.plot(cmap='Blues')\n",
    "plt.show()"
   ]
  }
 ],
 "metadata": {
  "kernelspec": {
   "display_name": "ml",
   "language": "python",
   "name": "python3"
  },
  "language_info": {
   "codemirror_mode": {
    "name": "ipython",
    "version": 3
   },
   "file_extension": ".py",
   "mimetype": "text/x-python",
   "name": "python",
   "nbconvert_exporter": "python",
   "pygments_lexer": "ipython3",
   "version": "3.11.6"
  },
  "orig_nbformat": 4
 },
 "nbformat": 4,
 "nbformat_minor": 2
}
