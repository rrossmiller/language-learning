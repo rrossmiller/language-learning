{
 "cells": [
  {
   "cell_type": "code",
   "execution_count": 1,
   "metadata": {},
   "outputs": [
    {
     "name": "stdout",
     "output_type": "stream",
     "text": [
      "True\n"
     ]
    }
   ],
   "source": [
    "import torch\n",
    "import torch_geometric as pyg\n",
    "\n",
    "print(torch.backends.mps.is_available())\n",
    "\n",
    "device = \"mps\" if torch.backends.mps.is_available() else \"cpu\"\n"
   ]
  },
  {
   "cell_type": "markdown",
   "metadata": {},
   "source": [
    "We show a simple example of an unweighted and undirected graph with three nodes and four edges. Each node contains exactly one feature:\n"
   ]
  },
  {
   "cell_type": "code",
   "execution_count": 2,
   "metadata": {},
   "outputs": [
    {
     "name": "stdout",
     "output_type": "stream",
     "text": [
      "['edge_index', 'x']\n",
      "tensor([[-1.],\n",
      "        [ 0.],\n",
      "        [ 1.]])\n",
      "3\n",
      "4\n",
      "False\n",
      "False\n"
     ]
    },
    {
     "data": {
      "text/plain": [
       "Data(x=[3, 1], edge_index=[2, 4])"
      ]
     },
     "execution_count": 2,
     "metadata": {},
     "output_type": "execute_result"
    }
   ],
   "source": [
    "from torch_geometric.data import Data\n",
    "\n",
    "x = torch.tensor([[-1], [0], [1]], dtype=torch.float)\n",
    "#                           src             tgt\n",
    "edge_index = torch.tensor([[0, 1, 1, 2], [1, 0, 2, 1]], dtype=torch.long)\n",
    "data = pyg.data.Data(x=x, edge_index=edge_index)\n",
    "# OR\n",
    "#                          src,tgt\n",
    "edge_index = torch.tensor([[0, 1], [1, 0], [1, 2], [2, 1]], dtype=torch.long)\n",
    "\n",
    "\n",
    "data: Data = Data(x=x, edge_index=edge_index.t().contiguous())\n",
    "data.validate(raise_on_error=True)\n",
    "print(data.keys)\n",
    "print(data[\"x\"])\n",
    "print(data.num_nodes)\n",
    "print(data.num_edges)\n",
    "print(data.has_isolated_nodes())\n",
    "print(data.has_self_loops())\n",
    "data\n"
   ]
  },
  {
   "cell_type": "code",
   "execution_count": 3,
   "metadata": {},
   "outputs": [
    {
     "name": "stdout",
     "output_type": "stream",
     "text": [
      "600\n",
      "6\n",
      "3\n",
      "False\n",
      "['edge_index', 'x', 'y']\n"
     ]
    },
    {
     "data": {
      "text/plain": [
       "Data(edge_index=[2, 168], x=[37, 3], y=[1])"
      ]
     },
     "execution_count": 3,
     "metadata": {},
     "output_type": "execute_result"
    }
   ],
   "source": [
    "from torch_geometric.datasets import TUDataset, Planetoid\n",
    "\n",
    "dataset = TUDataset(root=\"./data/ENZYMES\", name=\"ENZYMES\")\n",
    "# dataset = Planetoid(root=\"data/Cora\", name=\"Cora\")\n",
    "\n",
    "# dataset = dataset.shuffle()\n",
    "print(len(dataset))\n",
    "print(dataset.num_classes)\n",
    "print(dataset.num_node_features)\n",
    "data = dataset[0]\n",
    "print(data.is_directed())\n",
    "print(data.keys)\n",
    "data\n"
   ]
  },
  {
   "cell_type": "code",
   "execution_count": 4,
   "metadata": {},
   "outputs": [
    {
     "data": {
      "text/plain": [
       "ENZYMES(540)"
      ]
     },
     "execution_count": 4,
     "metadata": {},
     "output_type": "execute_result"
    }
   ],
   "source": [
    "train_dataset = dataset[:540]\n",
    "\n",
    "test_dataset = dataset[540:]\n",
    "train_dataset\n"
   ]
  },
  {
   "cell_type": "markdown",
   "metadata": {},
   "source": [
    "## Mini batches\n",
    "\n",
    "https://pytorch-geometric.readthedocs.io/en/latest/get_started/introduction.html#mini-batches\n"
   ]
  },
  {
   "cell_type": "code",
   "execution_count": 5,
   "metadata": {},
   "outputs": [
    {
     "name": "stdout",
     "output_type": "stream",
     "text": [
      "DataBatch(edge_index=[2, 3388], x=[901, 21], y=[32], batch=[901], ptr=[33]) 32\n"
     ]
    }
   ],
   "source": [
    "from torch_geometric.datasets import TUDataset\n",
    "from torch_geometric.loader import DataLoader\n",
    "\n",
    "dataset = TUDataset(root=\"./data/ENZYMES\", name=\"ENZYMES\", use_node_attr=True)\n",
    "loader = DataLoader(dataset, batch_size=32, shuffle=True)\n",
    "for batch in loader:\n",
    "    print(batch, batch.num_graphs)\n",
    "    break\n"
   ]
  },
  {
   "cell_type": "markdown",
   "metadata": {},
   "source": [
    "## Data Transforms\n"
   ]
  },
  {
   "cell_type": "code",
   "execution_count": 6,
   "metadata": {},
   "outputs": [
    {
     "name": "stdout",
     "output_type": "stream",
     "text": [
      "Data(x=[2518, 3], y=[2518], pos=[2518, 3], category=[1])\n"
     ]
    },
    {
     "name": "stderr",
     "output_type": "stream",
     "text": [
      "/Users/robrossmiller/.venv/ml/lib/python3.11/site-packages/torch_geometric/data/dataset.py:209: UserWarning: The `pre_transform` argument differs from the one used in the pre-processed version of this dataset. If you want to make use of another pre-processing technique, make sure to delete 'data/ShapeNet/processed' first\n",
      "  warnings.warn(\n"
     ]
    },
    {
     "data": {
      "text/plain": [
       "Data(x=[2518, 3], y=[2518], pos=[2518, 3], category=[1])"
      ]
     },
     "execution_count": 6,
     "metadata": {},
     "output_type": "execute_result"
    }
   ],
   "source": [
    "from torch_geometric.datasets import ShapeNet\n",
    "import torch_geometric.transforms as T\n",
    "\n",
    "dataset = ShapeNet(root=\"data/ShapeNet\", categories=[\"Airplane\"])\n",
    "print(dataset[0])\n",
    "\n",
    "dataset = ShapeNet(\n",
    "    root=\"data/ShapeNet\", categories=[\"Airplane\"], pre_transform=T.KNNGraph()\n",
    ")\n",
    "\n",
    "dataset[0]\n"
   ]
  },
  {
   "cell_type": "markdown",
   "metadata": {},
   "source": [
    "## Learning methods on graph\n",
    "\n",
    ":)\n"
   ]
  },
  {
   "cell_type": "code",
   "execution_count": 7,
   "metadata": {},
   "outputs": [
    {
     "name": "stdout",
     "output_type": "stream",
     "text": [
      "tensor(140)\n",
      "tensor(1000)\n",
      "tensor(500)\n"
     ]
    },
    {
     "data": {
      "text/plain": [
       "Data(x=[2708, 1433], edge_index=[2, 10556], y=[2708], train_mask=[2708], val_mask=[2708], test_mask=[2708])"
      ]
     },
     "execution_count": 7,
     "metadata": {},
     "output_type": "execute_result"
    }
   ],
   "source": [
    "from torch_geometric.datasets import Planetoid\n",
    "\n",
    "dataset = Planetoid(root=\"data/Cora\", name=\"Cora\")\n",
    "num_train = sum(dataset[0]['train_mask'])\n",
    "print(num_train)\n",
    "num_test = sum(dataset[0]['test_mask'])\n",
    "print(num_test)\n",
    "num_val = sum(dataset[0]['val_mask'])\n",
    "print(num_val)\n",
    "dataset[0]\n"
   ]
  },
  {
   "cell_type": "code",
   "execution_count": 8,
   "metadata": {},
   "outputs": [],
   "source": [
    "import torch\n",
    "import torch.nn.functional as F\n",
    "import torch_geometric.nn as gnn\n",
    "\n",
    "\n",
    "class GCN(torch.nn.Module):\n",
    "    def __init__(self, in_feats, h_feats, outputs) -> None:\n",
    "        super().__init__()\n",
    "        self.c1 = gnn.GCNConv(in_feats, h_feats)\n",
    "        self.c2 = gnn.GCNConv(h_feats, outputs)\n",
    "\n",
    "    def forward(self, data):\n",
    "        x, edge_idx = data.x, data.edge_index\n",
    "\n",
    "        h = self.c1(x, edge_idx)\n",
    "        h = F.relu(h)\n",
    "        h = F.dropout(h, training=self.training)\n",
    "        h = self.c2(h, edge_idx)\n",
    "\n",
    "        return F.log_softmax(h, dim=1)\n"
   ]
  },
  {
   "cell_type": "code",
   "execution_count": 9,
   "metadata": {},
   "outputs": [
    {
     "data": {
      "text/plain": [
       "tensor([3, 4, 4, 0, 3, 2, 0, 3, 3, 2, 0, 0, 4, 3, 3, 3, 2, 3, 1, 3, 5, 3, 4, 6,\n",
       "        3, 3, 6, 3, 2, 4, 3, 6, 0, 4, 2, 0, 1, 5, 4, 4, 3, 6, 6, 4, 3, 3, 2, 5,\n",
       "        3, 4, 5, 3, 0, 2, 1, 4, 6, 3, 2, 2, 0, 0, 0, 4, 2, 0, 4, 5, 2, 6, 5, 2,\n",
       "        2, 2, 0, 4, 5, 6, 4, 0, 0, 0, 4, 2, 4, 1, 4, 6, 0, 4, 2, 4, 6, 6, 0, 0,\n",
       "        6, 5, 0, 6, 0, 2, 1, 1, 1, 2, 6, 5, 6, 1, 2, 2, 1, 5, 5, 5, 6, 5, 6, 5,\n",
       "        5, 1, 6, 6, 1, 5, 1, 6, 5, 5, 5, 1, 5, 1, 1, 1, 1, 1, 1, 1])"
      ]
     },
     "execution_count": 9,
     "metadata": {},
     "output_type": "execute_result"
    }
   ],
   "source": [
    "dataset[0].y[dataset[0].train_mask]"
   ]
  },
  {
   "cell_type": "code",
   "execution_count": 10,
   "metadata": {},
   "outputs": [
    {
     "name": "stdout",
     "output_type": "stream",
     "text": [
      "device: mps\n"
     ]
    }
   ],
   "source": [
    "from torchmetrics import F1Score\n",
    "\n",
    "print(\"device:\", device)\n",
    "model = GCN(dataset.num_node_features, 16, dataset.num_classes).to(device)\n",
    "data = dataset[0].to(device)\n",
    "optimizer = torch.optim.Adam(model.parameters(), lr=0.01, weight_decay=5e-4)\n",
    "\n",
    "model.train()\n",
    "for epoch in range(200):\n",
    "    optimizer.zero_grad()\n",
    "    out = model(data)\n",
    "    loss = F.nll_loss(out[data.train_mask], data.y[data.train_mask])\n",
    "    loss.backward()\n",
    "    optimizer.step()\n"
   ]
  },
  {
   "cell_type": "code",
   "execution_count": 11,
   "metadata": {},
   "outputs": [
    {
     "name": "stdout",
     "output_type": "stream",
     "text": [
      "Accuracy: 0.7950\n"
     ]
    },
    {
     "data": {
      "text/plain": [
       "'f1: 0.7950000166893005'"
      ]
     },
     "execution_count": 11,
     "metadata": {},
     "output_type": "execute_result"
    }
   ],
   "source": [
    "model.eval()\n",
    "pred = model(data).argmax(dim=1)\n",
    "correct = (pred[data.test_mask] == data.y[data.test_mask]).sum()\n",
    "acc = int(correct) / int(data.test_mask.sum())\n",
    "print(f\"Accuracy: {acc:.4f}\")\n",
    "metric = F1Score(task=\"multiclass\", num_classes=dataset.num_classes)\n",
    "target = data.y[data.test_mask].to(\"cpu\")\n",
    "\n",
    "f\"f1: {metric(pred[data.test_mask].to('cpu'), target)}\"\n"
   ]
  },
  {
   "cell_type": "markdown",
   "metadata": {},
   "source": [
    "## Exercises"
   ]
  },
  {
   "cell_type": "code",
   "execution_count": 12,
   "metadata": {},
   "outputs": [
    {
     "name": "stdout",
     "output_type": "stream",
     "text": [
      "1000\n",
      "0.8\n",
      "0.1\n",
      "0.1\n"
     ]
    },
    {
     "data": {
      "text/plain": [
       "' What does each number of the following output mean?\\nDataBatch(batch=[1082], edge_index=[2, 4066], x=[1082, 21], y=[32])\\n\\nnum graphs, len of edges, num nodes x num feats, num labels\\n'"
      ]
     },
     "execution_count": 12,
     "metadata": {},
     "output_type": "execute_result"
    }
   ],
   "source": [
    "\"\"\"\n",
    "What does edge_index.t().contiguous() do?\n",
    "turns [[src],[tgt]] into [[src,tgt]]\n",
    "\"\"\"\n",
    "\n",
    "# Load the \"IMDB-BINARY\" dataset from the TUDataset benchmark suite and randomly split it into 80%/10%/10% training, validation and test graphs.\n",
    "dataset = TUDataset(\"data\", name=\"IMDB-BINARY\").shuffle()\n",
    "\n",
    "tr = int(len(dataset) * 0.8)\n",
    "te = tr + int(len(dataset) * 0.1)\n",
    "val = tr + te + int(len(dataset) * 0.1)\n",
    "train = dataset[:tr]\n",
    "test = dataset[tr:te]\n",
    "eval = dataset[te:]\n",
    "print(len(dataset))\n",
    "print(len(train) / len(dataset))\n",
    "print(len(test) / len(dataset))\n",
    "print(len(eval) / len(dataset))\n",
    "\n",
    "\"\"\" What does each number of the following output mean?\n",
    "DataBatch(batch=[1082], edge_index=[2, 4066], x=[1082, 21], y=[32])\n",
    "\n",
    "num graphs, len of edges, num nodes x num feats, num labels\n",
    "\"\"\"\n"
   ]
  },
  {
   "cell_type": "code",
   "execution_count": null,
   "metadata": {},
   "outputs": [],
   "source": []
  }
 ],
 "metadata": {
  "kernelspec": {
   "display_name": "ml",
   "language": "python",
   "name": "python3"
  },
  "language_info": {
   "codemirror_mode": {
    "name": "ipython",
    "version": 3
   },
   "file_extension": ".py",
   "mimetype": "text/x-python",
   "name": "python",
   "nbconvert_exporter": "python",
   "pygments_lexer": "ipython3",
   "version": "3.11.6"
  },
  "orig_nbformat": 4
 },
 "nbformat": 4,
 "nbformat_minor": 2
}
