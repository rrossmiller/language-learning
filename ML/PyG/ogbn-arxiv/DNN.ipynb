{
 "cells": [
  {
   "cell_type": "code",
   "execution_count": null,
   "metadata": {},
   "outputs": [],
   "source": [
    "import torch\n",
    "from ogb.nodeproppred import PygNodePropPredDataset\n",
    "from tqdm import trange\n",
    "import pandas as pd\n",
    "from matplotlib import pyplot as plt\n",
    "import seaborn as sns\n",
    "\n",
    "dataset = PygNodePropPredDataset(name=\"ogbn-arxiv\", root=\"dataset/\")\n",
    "print(dataset.meta_info)\n",
    "print(dataset.num_node_features)\n",
    "print()\n",
    "print(dataset._data)\n",
    "splits = dataset.get_idx_split()\n",
    "[f\"{k}: {len(splits[k])/dataset.num_nodes*100:.2f}%\" for k in splits.keys()]"
   ]
  },
  {
   "cell_type": "code",
   "execution_count": null,
   "metadata": {},
   "outputs": [],
   "source": [
    "from collections import Counter\n",
    "\n",
    "c = Counter(dataset.y.flatten().numpy())\n",
    "sns.barplot(x=c.keys(), y=c.values())\n",
    "plt.xticks(rotation=90)\n",
    "plt.show()"
   ]
  },
  {
   "cell_type": "code",
   "execution_count": null,
   "metadata": {},
   "outputs": [],
   "source": [
    "import torch.nn as nn\n",
    "from torch.nn import functional as F\n",
    "\n",
    "\n",
    "class NN(nn.Module):\n",
    "    def __init__(self) -> None:\n",
    "        super().__init__()\n",
    "        nh = 64\n",
    "        self.l1 = nn.Linear(dataset.num_node_features, nh)\n",
    "        self.l2 = nn.Linear(nh, nh)\n",
    "        self.l3 = nn.Linear(nh, dataset.num_classes)\n",
    "\n",
    "    def forward(self, data):\n",
    "        x = data.x.float()\n",
    "\n",
    "        x = self.l1(x)\n",
    "        x = F.relu(x)\n",
    "        x = F.dropout(x, training=self.training)\n",
    "        x = self.l2(x)\n",
    "        x = F.dropout(x, training=self.training)\n",
    "        x = self.l3(x)\n",
    "        return F.log_softmax(x, dim=1)\n",
    "\n",
    "\n",
    "device = \"mps\" if torch.backends.mps.is_available() else \"cpu\"\n",
    "device"
   ]
  },
  {
   "cell_type": "code",
   "execution_count": null,
   "metadata": {},
   "outputs": [],
   "source": [
    "device = torch.device(\"cuda\" if torch.cuda.is_available() else \"cpu\")\n",
    "model = NN().to(device)\n",
    "data = dataset.to(device)\n",
    "optimizer = torch.optim.Adam(model.parameters(), lr=0.01, weight_decay=5e-4)\n",
    "\n",
    "results = {\"loss\": [], \"val_loss\": [], \"acc\": [], \"val_acc\": []}\n",
    "tr = trange(400)\n",
    "for i in tr:\n",
    "    model.train()\n",
    "    optimizer.zero_grad()\n",
    "    out = model(dataset)\n",
    "    loss = F.nll_loss(out[splits[\"train\"]], dataset.y[splits[\"train\"]].flatten())\n",
    "    correct = (\n",
    "        out.argmax(-1)[splits[\"train\"]] == dataset.y[splits[\"train\"]].flatten()\n",
    "    ).sum()\n",
    "    acc = int(correct) / len(splits[\"train\"])\n",
    "    results[\"acc\"].append(acc)\n",
    "    results[\"loss\"].append(loss.item())\n",
    "    loss.backward()\n",
    "    optimizer.step()\n",
    "\n",
    "    model.eval()\n",
    "    vout = model(dataset)\n",
    "    vloss = F.nll_loss(vout[splits[\"valid\"]], dataset.y[splits[\"valid\"]].flatten())\n",
    "    correct = (\n",
    "        vout.argmax(-1)[splits[\"valid\"]] == dataset.y[splits[\"valid\"]].flatten()\n",
    "    ).sum()\n",
    "    vacc = int(correct) / len(splits[\"valid\"])\n",
    "    results[\"val_acc\"].append(vacc)\n",
    "    results[\"val_loss\"].append(vloss.item())\n",
    "\n",
    "    tr.set_postfix(\n",
    "        {\"loss\": loss.item(), \"vloss\": vloss.item(), \"acc\": acc, \"vacc\": vacc}\n",
    "    )"
   ]
  },
  {
   "cell_type": "code",
   "execution_count": null,
   "metadata": {},
   "outputs": [],
   "source": [
    "df = pd.DataFrame(results)\n",
    "df[[\"loss\", \"val_loss\"]].plot()\n",
    "plt.legend()\n",
    "plt.show()"
   ]
  },
  {
   "cell_type": "code",
   "execution_count": null,
   "metadata": {},
   "outputs": [],
   "source": [
    "df[[\"acc\", \"val_acc\"]].plot()\n",
    "plt.legend()\n",
    "plt.show()"
   ]
  },
  {
   "cell_type": "code",
   "execution_count": null,
   "metadata": {},
   "outputs": [],
   "source": [
    "# test\n",
    "model.eval()\n",
    "out = model(dataset)\n",
    "# loss = F.nll_loss(out[splits[\"test\"]], dataset.y[splits[\"test\"]].flatten())\n",
    "correct = (out.argmax(-1)[splits[\"test\"]] == dataset.y[splits[\"test\"]].flatten()).sum()\n",
    "acc = int(correct) / len(splits[\"test\"])\n",
    "\n",
    "acc"
   ]
  },
  {
   "cell_type": "code",
   "execution_count": null,
   "metadata": {},
   "outputs": [],
   "source": [
    "from sklearn.metrics import confusion_matrix, ConfusionMatrixDisplay\n",
    "\n",
    "cm = confusion_matrix(\n",
    "    dataset.y[splits[\"test\"]].flatten(), out.argmax(-1)[splits[\"test\"]]\n",
    ")\n",
    "disp = ConfusionMatrixDisplay(cm)\n",
    "disp.plot(cmap=\"Blues\", include_values=False)\n",
    "plt.show()"
   ]
  },
  {
   "cell_type": "code",
   "execution_count": null,
   "metadata": {},
   "outputs": [],
   "source": []
  }
 ],
 "metadata": {
  "kernelspec": {
   "display_name": "ogb",
   "language": "python",
   "name": "python3"
  },
  "language_info": {
   "codemirror_mode": {
    "name": "ipython",
    "version": 3
   },
   "file_extension": ".py",
   "mimetype": "text/x-python",
   "name": "python",
   "nbconvert_exporter": "python",
   "pygments_lexer": "ipython3",
   "version": "3.11.6"
  }
 },
 "nbformat": 4,
 "nbformat_minor": 2
}
